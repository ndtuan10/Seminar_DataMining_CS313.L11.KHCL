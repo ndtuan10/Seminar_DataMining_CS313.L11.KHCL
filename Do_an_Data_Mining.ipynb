{
  "nbformat": 4,
  "nbformat_minor": 0,
  "metadata": {
    "colab": {
      "name": "Do-an-Data-Mining.ipynb",
      "provenance": [],
      "collapsed_sections": [],
      "include_colab_link": true
    },
    "kernelspec": {
      "display_name": "Python 3",
      "name": "python3"
    }
  },
  "cells": [
    {
      "cell_type": "markdown",
      "metadata": {
        "id": "view-in-github",
        "colab_type": "text"
      },
      "source": [
        "<a href=\"https://colab.research.google.com/github/ndtuan10/Seminar_DataMining_CS313.L11.KHCL/blob/main/Do_an_Data_Mining.ipynb\" target=\"_parent\"><img src=\"https://colab.research.google.com/assets/colab-badge.svg\" alt=\"Open In Colab\"/></a>"
      ]
    },
    {
      "cell_type": "markdown",
      "metadata": {
        "id": "9KyX_-gNIT0c"
      },
      "source": [
        "# **BÁO CÁO ĐỒ ÁN CUỐI KÌ**\n",
        "\n",
        "**Môn : Khai thác dữ liệu và ứng dụng - CS313.L11.KHCL**\n",
        "\n",
        "Giáo viên : TS.Nguyễn Thị Anh Thư\n",
        "\n",
        "Thành viên :\n",
        "\n",
        "  + Ngô Đức Tuấn (18520186)  \n",
        "  + Trần Ngọc Chính (18520534)\n",
        "  + Nguyễn Anh Khoa (18520922)\n",
        "  + Bùi Minh Lý (18521075)\n",
        "  + Bùi Quang Minh (18521087)\n",
        "  + Lê Anh Minh (18521098)\n"
      ]
    },
    {
      "cell_type": "markdown",
      "metadata": {
        "id": "78DY8qV8Km9B"
      },
      "source": [
        "# **I. TỔNG QUAN DỮ LIỆU**\n",
        "## Tên đề tài: Income Dataset\n",
        "- Nguồn dữ liệu: Kaggle\n",
        "- Link dữ liệu: https://www.kaggle.com/mastmustu/income\n",
        "- Mục tiêu: Xây dựng bài toán phân lớp một biến nhị phân dự đoán tiền lương của một người có được từ ***$50k*** trở lên không dựa trên những dữ liệu có sẵn. \n",
        "\n",
        "- Input: Tập dữ liệu cung cấp 14 thuộc tính dự đoán khác nhau, ví dụ education, employment status, marital status,…\n",
        "\n",
        "- Output: Cho biết tiền lương của một người có được từ ***$50k*** trở lên không, nếu được thì cho ra kết quả ***“income_>50K” = 1***, ngược lại nếu không được cho ra kết quả ***“income_>50K” = 0***."
      ]
    },
    {
      "cell_type": "code",
      "metadata": {
        "colab": {
          "base_uri": "https://localhost:8080/"
        },
        "id": "iklBVMSzIVA-",
        "outputId": "3de525ff-70c8-4756-8e6f-717f89e1d8cc"
      },
      "source": [
        "from google.colab import drive\n",
        "drive.mount('/content/drive')                                                                                                                                                                                                                                                              "
      ],
      "execution_count": 385,
      "outputs": [
        {
          "output_type": "stream",
          "text": [
            "Drive already mounted at /content/drive; to attempt to forcibly remount, call drive.mount(\"/content/drive\", force_remount=True).\n"
          ],
          "name": "stdout"
        }
      ]
    },
    {
      "cell_type": "markdown",
      "metadata": {
        "id": "1R3uTU9Gnsk3"
      },
      "source": [
        "# **II. ĐỌC-HIỂU DỮ LIỆU**"
      ]
    },
    {
      "cell_type": "code",
      "metadata": {
        "id": "sywIu_FgX4CS"
      },
      "source": [
        "import numpy as np\n",
        "import pandas as pd\n",
        "import matplotlib.pyplot as plt\n",
        "import seaborn as sns\n",
        "from sklearn.preprocessing import StandardScaler, LabelEncoder\n",
        "from sklearn.base import BaseEstimator, TransformerMixin\n",
        "\n",
        "%matplotlib inline"
      ],
      "execution_count": 386,
      "outputs": []
    },
    {
      "cell_type": "code",
      "metadata": {
        "colab": {
          "base_uri": "https://localhost:8080/"
        },
        "id": "jqI9_Yq7X47G",
        "outputId": "907a01e0-2f81-42e9-fabc-3411bf7eca75"
      },
      "source": [
        "path = '/content/drive/My Drive/CS313.L11.KHCL - Data Mining/data/income.csv'\n",
        "data = pd.read_csv(path)\n",
        "data.shape #Số dòng, cột"
      ],
      "execution_count": 387,
      "outputs": [
        {
          "output_type": "execute_result",
          "data": {
            "text/plain": [
              "(43957, 15)"
            ]
          },
          "metadata": {
            "tags": []
          },
          "execution_count": 387
        }
      ]
    },
    {
      "cell_type": "code",
      "metadata": {
        "colab": {
          "base_uri": "https://localhost:8080/",
          "height": 538
        },
        "id": "RJi0vDB8siW1",
        "outputId": "d36ba603-90f4-4304-b62f-740ecd6b60af"
      },
      "source": [
        "#Tổng quan dữ liệu\n",
        "data"
      ],
      "execution_count": 388,
      "outputs": [
        {
          "output_type": "execute_result",
          "data": {
            "text/html": [
              "<div>\n",
              "<style scoped>\n",
              "    .dataframe tbody tr th:only-of-type {\n",
              "        vertical-align: middle;\n",
              "    }\n",
              "\n",
              "    .dataframe tbody tr th {\n",
              "        vertical-align: top;\n",
              "    }\n",
              "\n",
              "    .dataframe thead th {\n",
              "        text-align: right;\n",
              "    }\n",
              "</style>\n",
              "<table border=\"1\" class=\"dataframe\">\n",
              "  <thead>\n",
              "    <tr style=\"text-align: right;\">\n",
              "      <th></th>\n",
              "      <th>age</th>\n",
              "      <th>workclass</th>\n",
              "      <th>fnlwgt</th>\n",
              "      <th>education</th>\n",
              "      <th>educational-num</th>\n",
              "      <th>marital-status</th>\n",
              "      <th>occupation</th>\n",
              "      <th>relationship</th>\n",
              "      <th>race</th>\n",
              "      <th>gender</th>\n",
              "      <th>capital-gain</th>\n",
              "      <th>capital-loss</th>\n",
              "      <th>hours-per-week</th>\n",
              "      <th>native-country</th>\n",
              "      <th>income_&gt;50K</th>\n",
              "    </tr>\n",
              "  </thead>\n",
              "  <tbody>\n",
              "    <tr>\n",
              "      <th>0</th>\n",
              "      <td>67</td>\n",
              "      <td>Private</td>\n",
              "      <td>366425</td>\n",
              "      <td>Doctorate</td>\n",
              "      <td>16</td>\n",
              "      <td>Divorced</td>\n",
              "      <td>Exec-managerial</td>\n",
              "      <td>Not-in-family</td>\n",
              "      <td>White</td>\n",
              "      <td>Male</td>\n",
              "      <td>99999</td>\n",
              "      <td>0</td>\n",
              "      <td>60</td>\n",
              "      <td>United-States</td>\n",
              "      <td>1</td>\n",
              "    </tr>\n",
              "    <tr>\n",
              "      <th>1</th>\n",
              "      <td>17</td>\n",
              "      <td>Private</td>\n",
              "      <td>244602</td>\n",
              "      <td>12th</td>\n",
              "      <td>8</td>\n",
              "      <td>Never-married</td>\n",
              "      <td>Other-service</td>\n",
              "      <td>Own-child</td>\n",
              "      <td>White</td>\n",
              "      <td>Male</td>\n",
              "      <td>0</td>\n",
              "      <td>0</td>\n",
              "      <td>15</td>\n",
              "      <td>United-States</td>\n",
              "      <td>0</td>\n",
              "    </tr>\n",
              "    <tr>\n",
              "      <th>2</th>\n",
              "      <td>31</td>\n",
              "      <td>Private</td>\n",
              "      <td>174201</td>\n",
              "      <td>Bachelors</td>\n",
              "      <td>13</td>\n",
              "      <td>Married-civ-spouse</td>\n",
              "      <td>Exec-managerial</td>\n",
              "      <td>Husband</td>\n",
              "      <td>White</td>\n",
              "      <td>Male</td>\n",
              "      <td>0</td>\n",
              "      <td>0</td>\n",
              "      <td>40</td>\n",
              "      <td>United-States</td>\n",
              "      <td>1</td>\n",
              "    </tr>\n",
              "    <tr>\n",
              "      <th>3</th>\n",
              "      <td>58</td>\n",
              "      <td>State-gov</td>\n",
              "      <td>110199</td>\n",
              "      <td>7th-8th</td>\n",
              "      <td>4</td>\n",
              "      <td>Married-civ-spouse</td>\n",
              "      <td>Transport-moving</td>\n",
              "      <td>Husband</td>\n",
              "      <td>White</td>\n",
              "      <td>Male</td>\n",
              "      <td>0</td>\n",
              "      <td>0</td>\n",
              "      <td>40</td>\n",
              "      <td>United-States</td>\n",
              "      <td>0</td>\n",
              "    </tr>\n",
              "    <tr>\n",
              "      <th>4</th>\n",
              "      <td>25</td>\n",
              "      <td>State-gov</td>\n",
              "      <td>149248</td>\n",
              "      <td>Some-college</td>\n",
              "      <td>10</td>\n",
              "      <td>Never-married</td>\n",
              "      <td>Other-service</td>\n",
              "      <td>Not-in-family</td>\n",
              "      <td>Black</td>\n",
              "      <td>Male</td>\n",
              "      <td>0</td>\n",
              "      <td>0</td>\n",
              "      <td>40</td>\n",
              "      <td>United-States</td>\n",
              "      <td>0</td>\n",
              "    </tr>\n",
              "    <tr>\n",
              "      <th>...</th>\n",
              "      <td>...</td>\n",
              "      <td>...</td>\n",
              "      <td>...</td>\n",
              "      <td>...</td>\n",
              "      <td>...</td>\n",
              "      <td>...</td>\n",
              "      <td>...</td>\n",
              "      <td>...</td>\n",
              "      <td>...</td>\n",
              "      <td>...</td>\n",
              "      <td>...</td>\n",
              "      <td>...</td>\n",
              "      <td>...</td>\n",
              "      <td>...</td>\n",
              "      <td>...</td>\n",
              "    </tr>\n",
              "    <tr>\n",
              "      <th>43952</th>\n",
              "      <td>52</td>\n",
              "      <td>Private</td>\n",
              "      <td>68982</td>\n",
              "      <td>Bachelors</td>\n",
              "      <td>13</td>\n",
              "      <td>Married-civ-spouse</td>\n",
              "      <td>Exec-managerial</td>\n",
              "      <td>Husband</td>\n",
              "      <td>White</td>\n",
              "      <td>Male</td>\n",
              "      <td>0</td>\n",
              "      <td>0</td>\n",
              "      <td>50</td>\n",
              "      <td>United-States</td>\n",
              "      <td>1</td>\n",
              "    </tr>\n",
              "    <tr>\n",
              "      <th>43953</th>\n",
              "      <td>19</td>\n",
              "      <td>Private</td>\n",
              "      <td>116562</td>\n",
              "      <td>HS-grad</td>\n",
              "      <td>9</td>\n",
              "      <td>Never-married</td>\n",
              "      <td>Other-service</td>\n",
              "      <td>Own-child</td>\n",
              "      <td>White</td>\n",
              "      <td>Female</td>\n",
              "      <td>0</td>\n",
              "      <td>0</td>\n",
              "      <td>40</td>\n",
              "      <td>United-States</td>\n",
              "      <td>0</td>\n",
              "    </tr>\n",
              "    <tr>\n",
              "      <th>43954</th>\n",
              "      <td>30</td>\n",
              "      <td>Private</td>\n",
              "      <td>197947</td>\n",
              "      <td>Some-college</td>\n",
              "      <td>10</td>\n",
              "      <td>Divorced</td>\n",
              "      <td>Sales</td>\n",
              "      <td>Not-in-family</td>\n",
              "      <td>White</td>\n",
              "      <td>Male</td>\n",
              "      <td>0</td>\n",
              "      <td>0</td>\n",
              "      <td>58</td>\n",
              "      <td>United-States</td>\n",
              "      <td>0</td>\n",
              "    </tr>\n",
              "    <tr>\n",
              "      <th>43955</th>\n",
              "      <td>46</td>\n",
              "      <td>Private</td>\n",
              "      <td>97883</td>\n",
              "      <td>Bachelors</td>\n",
              "      <td>13</td>\n",
              "      <td>Never-married</td>\n",
              "      <td>Sales</td>\n",
              "      <td>Not-in-family</td>\n",
              "      <td>White</td>\n",
              "      <td>Female</td>\n",
              "      <td>0</td>\n",
              "      <td>0</td>\n",
              "      <td>35</td>\n",
              "      <td>United-States</td>\n",
              "      <td>0</td>\n",
              "    </tr>\n",
              "    <tr>\n",
              "      <th>43956</th>\n",
              "      <td>30</td>\n",
              "      <td>Private</td>\n",
              "      <td>375827</td>\n",
              "      <td>HS-grad</td>\n",
              "      <td>9</td>\n",
              "      <td>Never-married</td>\n",
              "      <td>Handlers-cleaners</td>\n",
              "      <td>Other-relative</td>\n",
              "      <td>White</td>\n",
              "      <td>Male</td>\n",
              "      <td>0</td>\n",
              "      <td>0</td>\n",
              "      <td>40</td>\n",
              "      <td>United-States</td>\n",
              "      <td>0</td>\n",
              "    </tr>\n",
              "  </tbody>\n",
              "</table>\n",
              "<p>43957 rows × 15 columns</p>\n",
              "</div>"
            ],
            "text/plain": [
              "       age  workclass  fnlwgt  ... hours-per-week  native-country income_>50K\n",
              "0       67    Private  366425  ...             60   United-States           1\n",
              "1       17    Private  244602  ...             15   United-States           0\n",
              "2       31    Private  174201  ...             40   United-States           1\n",
              "3       58  State-gov  110199  ...             40   United-States           0\n",
              "4       25  State-gov  149248  ...             40   United-States           0\n",
              "...    ...        ...     ...  ...            ...             ...         ...\n",
              "43952   52    Private   68982  ...             50   United-States           1\n",
              "43953   19    Private  116562  ...             40   United-States           0\n",
              "43954   30    Private  197947  ...             58   United-States           0\n",
              "43955   46    Private   97883  ...             35   United-States           0\n",
              "43956   30    Private  375827  ...             40   United-States           0\n",
              "\n",
              "[43957 rows x 15 columns]"
            ]
          },
          "metadata": {
            "tags": []
          },
          "execution_count": 388
        }
      ]
    },
    {
      "cell_type": "markdown",
      "metadata": {
        "id": "ZrjaHhJOtUZV"
      },
      "source": [
        "## **1. Kiểm tra phân phối biến kết quả**"
      ]
    },
    {
      "cell_type": "code",
      "metadata": {
        "colab": {
          "base_uri": "https://localhost:8080/",
          "height": 440
        },
        "id": "T-0wlZ8gRHFr",
        "outputId": "2fd76834-bbe9-4080-f083-a6f6d2fdf2f0"
      },
      "source": [
        "#Kiểm tra dữ liệu cân bằng\n",
        "#Tần số xuất hiện của dữ liệu biến kết quả\n",
        "f, ax = plt.subplots(figsize=(5, 5))\n",
        "ax = sns.countplot(x=\"income_>50K\", data=data, palette=\"Set1\")\n",
        "plt.show()\n",
        "\n",
        "print(\"1 : \",(sum(data['income_>50K'] == 1) / data.shape[0])*100 , \"%\")\n",
        "print(\"0:  \",(sum(data['income_>50K'] == 0) / data.shape[0])*100, \"%\")\n",
        "\n",
        "# Số lượng thu nhập > 50K và < 50K\n",
        "print('So luong')\n",
        "data['income_>50K'].value_counts()"
      ],
      "execution_count": 389,
      "outputs": [
        {
          "output_type": "display_data",
          "data": {
            "image/png": "[encoded data removed]",
            "text/plain": [
              "<Figure size 360x360 with 1 Axes>"
            ]
          },
          "metadata": {
            "tags": [],
            "needs_background": "light"
          }
        },
        {
          "output_type": "stream",
          "text": [
            "1 :  23.927929567531905 %\n",
            "0:   76.0720704324681 %\n",
            "So luong\n"
          ],
          "name": "stdout"
        },
        {
          "output_type": "execute_result",
          "data": {
            "text/plain": [
              "0    33439\n",
              "1    10518\n",
              "Name: income_>50K, dtype: int64"
            ]
          },
          "metadata": {
            "tags": []
          },
          "execution_count": 389
        }
      ]
    },
    {
      "cell_type": "markdown",
      "metadata": {
        "id": "GxiQgZ4AUfEM"
      },
      "source": [
        "***- Nhận xét***: Ta thấy lượng phân bố các giá trị 0 và 1 ( <= 50K, >50K) có sự chênh lệch rất lớn. Cụ thể là giá trị 0 gấp khoảng 3 lần giá trị 1 nên ta cần cân bằng dữ liệu trước khi đưa vào mô hình thực nghiệm"
      ]
    },
    {
      "cell_type": "markdown",
      "metadata": {
        "id": "kCaT7HufuXHA"
      },
      "source": [
        "## **2. Kiểm tra tổng quát các biến dữ liệu**"
      ]
    },
    {
      "cell_type": "code",
      "metadata": {
        "colab": {
          "base_uri": "https://localhost:8080/"
        },
        "id": "BIcHHwhxdYdQ",
        "outputId": "bfabd6bf-33c8-404f-de24-2b908f16e448"
      },
      "source": [
        "# Kiểu dữ liệu của các cột\n",
        "data.info()"
      ],
      "execution_count": 390,
      "outputs": [
        {
          "output_type": "stream",
          "text": [
            "<class 'pandas.core.frame.DataFrame'>\n",
            "RangeIndex: 43957 entries, 0 to 43956\n",
            "Data columns (total 15 columns):\n",
            " #   Column           Non-Null Count  Dtype \n",
            "---  ------           --------------  ----- \n",
            " 0   age              43957 non-null  int64 \n",
            " 1   workclass        41459 non-null  object\n",
            " 2   fnlwgt           43957 non-null  int64 \n",
            " 3   education        43957 non-null  object\n",
            " 4   educational-num  43957 non-null  int64 \n",
            " 5   marital-status   43957 non-null  object\n",
            " 6   occupation       41451 non-null  object\n",
            " 7   relationship     43957 non-null  object\n",
            " 8   race             43957 non-null  object\n",
            " 9   gender           43957 non-null  object\n",
            " 10  capital-gain     43957 non-null  int64 \n",
            " 11  capital-loss     43957 non-null  int64 \n",
            " 12  hours-per-week   43957 non-null  int64 \n",
            " 13  native-country   43194 non-null  object\n",
            " 14  income_>50K      43957 non-null  int64 \n",
            "dtypes: int64(7), object(8)\n",
            "memory usage: 5.0+ MB\n"
          ],
          "name": "stdout"
        }
      ]
    },
    {
      "cell_type": "markdown",
      "metadata": {
        "id": "o0_Ei9xDvHLY"
      },
      "source": [
        "***- Nhận xét***: \n",
        "- Có 7 kiểu dữ liệu thuộc dạng số, 8 kiểu dữ liệu thuộc dạng object\n",
        "- Một số biến dữ liệu còn thiếu giá trị như \"workclass\", \"occupation\",...\n"
      ]
    },
    {
      "cell_type": "code",
      "metadata": {
        "colab": {
          "base_uri": "https://localhost:8080/"
        },
        "id": "3jo9cb52e9UY",
        "outputId": "65e9b4dd-07ed-4d2d-e914-d0bf909e13b2"
      },
      "source": [
        "# In ra các thuộc tính có kiểu nominal\n",
        "nom_columns = [ col for col in list(data.columns) if data[col].dtype =='object']\n",
        "nom_columns"
      ],
      "execution_count": 391,
      "outputs": [
        {
          "output_type": "execute_result",
          "data": {
            "text/plain": [
              "['workclass',\n",
              " 'education',\n",
              " 'marital-status',\n",
              " 'occupation',\n",
              " 'relationship',\n",
              " 'race',\n",
              " 'gender',\n",
              " 'native-country']"
            ]
          },
          "metadata": {
            "tags": []
          },
          "execution_count": 391
        }
      ]
    },
    {
      "cell_type": "code",
      "metadata": {
        "colab": {
          "base_uri": "https://localhost:8080/"
        },
        "id": "ZvH43HjVfUsO",
        "outputId": "2b40df68-5b7f-4f90-bba3-c3d086b5d2cf"
      },
      "source": [
        "# In ra các thuộc tính có kiểu numeric\n",
        "num_columns = [ col for col in list(data.columns) if data[col].dtype =='int64']\n",
        "num_columns"
      ],
      "execution_count": 392,
      "outputs": [
        {
          "output_type": "execute_result",
          "data": {
            "text/plain": [
              "['age',\n",
              " 'fnlwgt',\n",
              " 'educational-num',\n",
              " 'capital-gain',\n",
              " 'capital-loss',\n",
              " 'hours-per-week',\n",
              " 'income_>50K']"
            ]
          },
          "metadata": {
            "tags": []
          },
          "execution_count": 392
        }
      ]
    },
    {
      "cell_type": "markdown",
      "metadata": {
        "id": "7wYQk_nuwYEV"
      },
      "source": [
        "## **3. Xem thống kê của dữ liệu, tìm hiểu về dữ liệu**"
      ]
    },
    {
      "cell_type": "markdown",
      "metadata": {
        "id": "EpMa_FI150RC"
      },
      "source": [
        "- Với dữ liệu số (numeric), xem các giá trị trung bình, giá trị phương sai."
      ]
    },
    {
      "cell_type": "code",
      "metadata": {
        "colab": {
          "base_uri": "https://localhost:8080/",
          "height": 297
        },
        "id": "D9_NLb06ZE3r",
        "outputId": "eed4d63d-d54d-40f3-b563-c6f094b56448"
      },
      "source": [
        " # mean = giá trị trung bình, std = độ lệch chuẩn = căn bậc hai của phương sai.\n",
        " data.describe()"
      ],
      "execution_count": 393,
      "outputs": [
        {
          "output_type": "execute_result",
          "data": {
            "text/html": [
              "<div>\n",
              "<style scoped>\n",
              "    .dataframe tbody tr th:only-of-type {\n",
              "        vertical-align: middle;\n",
              "    }\n",
              "\n",
              "    .dataframe tbody tr th {\n",
              "        vertical-align: top;\n",
              "    }\n",
              "\n",
              "    .dataframe thead th {\n",
              "        text-align: right;\n",
              "    }\n",
              "</style>\n",
              "<table border=\"1\" class=\"dataframe\">\n",
              "  <thead>\n",
              "    <tr style=\"text-align: right;\">\n",
              "      <th></th>\n",
              "      <th>age</th>\n",
              "      <th>fnlwgt</th>\n",
              "      <th>educational-num</th>\n",
              "      <th>capital-gain</th>\n",
              "      <th>capital-loss</th>\n",
              "      <th>hours-per-week</th>\n",
              "      <th>income_&gt;50K</th>\n",
              "    </tr>\n",
              "  </thead>\n",
              "  <tbody>\n",
              "    <tr>\n",
              "      <th>count</th>\n",
              "      <td>43957.000000</td>\n",
              "      <td>4.395700e+04</td>\n",
              "      <td>43957.000000</td>\n",
              "      <td>43957.000000</td>\n",
              "      <td>43957.000000</td>\n",
              "      <td>43957.000000</td>\n",
              "      <td>43957.000000</td>\n",
              "    </tr>\n",
              "    <tr>\n",
              "      <th>mean</th>\n",
              "      <td>38.617149</td>\n",
              "      <td>1.896730e+05</td>\n",
              "      <td>10.074118</td>\n",
              "      <td>1093.559797</td>\n",
              "      <td>88.246491</td>\n",
              "      <td>40.407694</td>\n",
              "      <td>0.239279</td>\n",
              "    </tr>\n",
              "    <tr>\n",
              "      <th>std</th>\n",
              "      <td>13.734401</td>\n",
              "      <td>1.058215e+05</td>\n",
              "      <td>2.575092</td>\n",
              "      <td>7570.536063</td>\n",
              "      <td>404.588410</td>\n",
              "      <td>12.400303</td>\n",
              "      <td>0.426648</td>\n",
              "    </tr>\n",
              "    <tr>\n",
              "      <th>min</th>\n",
              "      <td>17.000000</td>\n",
              "      <td>1.349200e+04</td>\n",
              "      <td>1.000000</td>\n",
              "      <td>0.000000</td>\n",
              "      <td>0.000000</td>\n",
              "      <td>1.000000</td>\n",
              "      <td>0.000000</td>\n",
              "    </tr>\n",
              "    <tr>\n",
              "      <th>25%</th>\n",
              "      <td>28.000000</td>\n",
              "      <td>1.174960e+05</td>\n",
              "      <td>9.000000</td>\n",
              "      <td>0.000000</td>\n",
              "      <td>0.000000</td>\n",
              "      <td>40.000000</td>\n",
              "      <td>0.000000</td>\n",
              "    </tr>\n",
              "    <tr>\n",
              "      <th>50%</th>\n",
              "      <td>37.000000</td>\n",
              "      <td>1.781000e+05</td>\n",
              "      <td>10.000000</td>\n",
              "      <td>0.000000</td>\n",
              "      <td>0.000000</td>\n",
              "      <td>40.000000</td>\n",
              "      <td>0.000000</td>\n",
              "    </tr>\n",
              "    <tr>\n",
              "      <th>75%</th>\n",
              "      <td>48.000000</td>\n",
              "      <td>2.376710e+05</td>\n",
              "      <td>12.000000</td>\n",
              "      <td>0.000000</td>\n",
              "      <td>0.000000</td>\n",
              "      <td>45.000000</td>\n",
              "      <td>0.000000</td>\n",
              "    </tr>\n",
              "    <tr>\n",
              "      <th>max</th>\n",
              "      <td>90.000000</td>\n",
              "      <td>1.490400e+06</td>\n",
              "      <td>16.000000</td>\n",
              "      <td>99999.000000</td>\n",
              "      <td>4356.000000</td>\n",
              "      <td>99.000000</td>\n",
              "      <td>1.000000</td>\n",
              "    </tr>\n",
              "  </tbody>\n",
              "</table>\n",
              "</div>"
            ],
            "text/plain": [
              "                age        fnlwgt  ...  hours-per-week   income_>50K\n",
              "count  43957.000000  4.395700e+04  ...    43957.000000  43957.000000\n",
              "mean      38.617149  1.896730e+05  ...       40.407694      0.239279\n",
              "std       13.734401  1.058215e+05  ...       12.400303      0.426648\n",
              "min       17.000000  1.349200e+04  ...        1.000000      0.000000\n",
              "25%       28.000000  1.174960e+05  ...       40.000000      0.000000\n",
              "50%       37.000000  1.781000e+05  ...       40.000000      0.000000\n",
              "75%       48.000000  2.376710e+05  ...       45.000000      0.000000\n",
              "max       90.000000  1.490400e+06  ...       99.000000      1.000000\n",
              "\n",
              "[8 rows x 7 columns]"
            ]
          },
          "metadata": {
            "tags": []
          },
          "execution_count": 393
        }
      ]
    },
    {
      "cell_type": "markdown",
      "metadata": {
        "id": "ekb6b1fs4EZq"
      },
      "source": [
        "- Với dữ liệu nhóm (nominal), xem số giá trị phân biệt, số giá trị duy nhất"
      ]
    },
    {
      "cell_type": "code",
      "metadata": {
        "colab": {
          "base_uri": "https://localhost:8080/"
        },
        "id": "eoV0QRQUZGkA",
        "outputId": "26e4c3d4-ceb3-4962-d200-990fa5dc8d7e"
      },
      "source": [
        "# Số giá trị phân biệt của các thuộc tính nominal\n",
        "cate = [var for var in data.columns if data[var].dtype== 'O']\n",
        "for var in cate:\n",
        "  print(var, 'có' , len(data[var].unique()), 'giá trị phân biệt')"
      ],
      "execution_count": 394,
      "outputs": [
        {
          "output_type": "stream",
          "text": [
            "workclass có 9 giá trị phân biệt\n",
            "education có 16 giá trị phân biệt\n",
            "marital-status có 7 giá trị phân biệt\n",
            "occupation có 15 giá trị phân biệt\n",
            "relationship có 6 giá trị phân biệt\n",
            "race có 5 giá trị phân biệt\n",
            "gender có 2 giá trị phân biệt\n",
            "native-country có 42 giá trị phân biệt\n"
          ],
          "name": "stdout"
        }
      ]
    },
    {
      "cell_type": "code",
      "metadata": {
        "colab": {
          "base_uri": "https://localhost:8080/"
        },
        "id": "SRcCimpuZMWU",
        "outputId": "1ede64d7-db74-4f5e-968c-8400aa538c8d"
      },
      "source": [
        "# Số giá trị duy nhất của các thuộc tính nominal\n",
        "cate = [var for var in data.columns if data[var].dtype== 'O']\n",
        "for var in cate:\n",
        "  print(var, 'có' , sum(data[var].value_counts()==1), 'giá trị duy nhất')"
      ],
      "execution_count": 395,
      "outputs": [
        {
          "output_type": "stream",
          "text": [
            "workclass có 0 giá trị duy nhất\n",
            "education có 0 giá trị duy nhất\n",
            "marital-status có 0 giá trị duy nhất\n",
            "occupation có 0 giá trị duy nhất\n",
            "relationship có 0 giá trị duy nhất\n",
            "race có 0 giá trị duy nhất\n",
            "gender có 0 giá trị duy nhất\n",
            "native-country có 1 giá trị duy nhất\n"
          ],
          "name": "stdout"
        }
      ]
    },
    {
      "cell_type": "markdown",
      "metadata": {
        "id": "V6m6qUxhGCzr"
      },
      "source": [
        "## **4. Trực quan hóa dữ liệu phân phối các giá trị (Các biến số)**"
      ]
    },
    {
      "cell_type": "code",
      "metadata": {
        "colab": {
          "base_uri": "https://localhost:8080/",
          "height": 619
        },
        "id": "dnPSUW0KGJo6",
        "outputId": "dd2c86aa-5051-4e3e-b224-fda0d2ce1803"
      },
      "source": [
        "plt.figure(figsize=(15,10))\n",
        "\n",
        "plt.subplot(2, 2, 1)\n",
        "fig = data.boxplot(column=\"age\")\n",
        "fig.set_title(\"\")\n",
        "fig.set_ylabel(\"age\")\n",
        "\n",
        "plt.subplot(2, 2, 2)\n",
        "fig = data.boxplot(column=\"fnlwgt\")\n",
        "fig.set_title(\"\")\n",
        "fig.set_ylabel(\"fnlwgt\")\n",
        "\n",
        "plt.subplot(2, 2, 3)\n",
        "fig = data.boxplot(column=\"educational-num\")\n",
        "fig.set_title(\"\")\n",
        "fig.set_ylabel(\"educational-num\")\n",
        "\n",
        "plt.subplot(2, 2, 4)\n",
        "fig = data.boxplot(column=\"capital-gain\")\n",
        "fig.set_title(\"\")\n",
        "fig.set_ylabel(\"capital-gain\")"
      ],
      "execution_count": 396,
      "outputs": [
        {
          "output_type": "execute_result",
          "data": {
            "text/plain": [
              "Text(0, 0.5, 'capital-gain')"
            ]
          },
          "metadata": {
            "tags": []
          },
          "execution_count": 396
        },
        {
          "output_type": "display_data",
          "data": {
            "image/png": "[encoded data removed]",
            "text/plain": [
              "<Figure size 1080x720 with 4 Axes>"
            ]
          },
          "metadata": {
            "tags": [],
            "needs_background": "light"
          }
        }
      ]
    },
    {
      "cell_type": "code",
      "metadata": {
        "colab": {
          "base_uri": "https://localhost:8080/",
          "height": 609
        },
        "id": "GqJDFtmwPYau",
        "outputId": "fad0ee3c-2047-4c08-f3a8-365e4b3daff2"
      },
      "source": [
        "plt.figure(figsize=(15,10))\n",
        "\n",
        "plt.subplot(2, 2, 1)\n",
        "fig = data.boxplot(column=\"capital-loss\")\n",
        "fig.set_title(\"\")\n",
        "fig.set_ylabel(\"capital-loss\")\n",
        "\n",
        "plt.subplot(2, 2, 2)\n",
        "fig = data.boxplot(column=\"hours-per-week\")\n",
        "fig.set_title(\"\")\n",
        "fig.set_ylabel(\"hours-per-week\")\n",
        "\n",
        "plt.subplot(2, 2, 3)\n",
        "fig = data.boxplot(column=\"income_>50K\")\n",
        "fig.set_title(\"\")\n",
        "fig.set_ylabel(\"income_>50K\")\n"
      ],
      "execution_count": 397,
      "outputs": [
        {
          "output_type": "execute_result",
          "data": {
            "text/plain": [
              "Text(0, 0.5, 'income_>50K')"
            ]
          },
          "metadata": {
            "tags": []
          },
          "execution_count": 397
        },
        {
          "output_type": "display_data",
          "data": {
            "image/png": "[encoded data removed]",
            "text/plain": [
              "<Figure size 1080x720 with 3 Axes>"
            ]
          },
          "metadata": {
            "tags": [],
            "needs_background": "light"
          }
        }
      ]
    },
    {
      "cell_type": "code",
      "metadata": {
        "colab": {
          "base_uri": "https://localhost:8080/",
          "height": 879
        },
        "id": "6EmCNLb_QyEG",
        "outputId": "40b53bfb-f34b-4d7e-9228-896380f2ffd3"
      },
      "source": [
        "data.hist(bins=50, figsize=(20,15))\n",
        "plt.show()"
      ],
      "execution_count": 398,
      "outputs": [
        {
          "output_type": "display_data",
          "data": {
            "image/png": "[encoded data removed]",
            "text/plain": [
              "<Figure size 1440x1080 with 9 Axes>"
            ]
          },
          "metadata": {
            "tags": [],
            "needs_background": "light"
          }
        }
      ]
    },
    {
      "cell_type": "markdown",
      "metadata": {
        "id": "IVhZ-UDATfeh"
      },
      "source": [
        "***- Nhận xét***: Sau khi xem các biểu đồ histogram, chúng tôi nhận thấy:\n",
        "- Các biến dữ liệu `capital-gain`, `capital-loss`, `fnlwgt`,  `hours-per-week` có phân phối chủ yếu dồn về 1 cột.\n",
        "- Biến nhãn `income_>50K` có phân phối ở hai giá trị '0' và '1'.\n",
        "- Đa số các biến dữ liệu đều có phân phối không tự nhiên.\n",
        "\n",
        "=> Do đó cần phải xử lý các biến này."
      ]
    },
    {
      "cell_type": "markdown",
      "metadata": {
        "id": "F26lU6nzUlCB"
      },
      "source": [
        "## **5. Tìm mối tương quan giữa các thuộc tính(Heat Map)**"
      ]
    },
    {
      "cell_type": "code",
      "metadata": {
        "colab": {
          "base_uri": "https://localhost:8080/",
          "height": 596
        },
        "id": "GT12TrTeUlaK",
        "outputId": "f9a424f3-4a59-44ed-c70a-980fea834621"
      },
      "source": [
        "#Hiển thị HeatMap cho dữ liệu\n",
        "plt.subplots(figsize=(15,10))\n",
        "ax = sns.heatmap(data.corr(),annot=True, fmt='.2f')"
      ],
      "execution_count": 399,
      "outputs": [
        {
          "output_type": "display_data",
          "data": {
            "image/png": "[encoded data removed]",
            "text/plain": [
              "<Figure size 1080x720 with 2 Axes>"
            ]
          },
          "metadata": {
            "tags": [],
            "needs_background": "light"
          }
        }
      ]
    },
    {
      "cell_type": "markdown",
      "metadata": {
        "id": "cgXAfJdrXGyG"
      },
      "source": [
        "***- Nhận xét***: \n",
        "- 2 biến giá trị được gọi là tương quan với nhau nếu nó có giá trị gần bằng 1, ta có thể quy ước 2 biến tương quan với nhau nếu độ tương quan của nó > 0.8\n",
        "-Các cặp biến tương quan có thể rất có ích cho mô hình chúng ta, có thể xóa nó để kết quả được \"tốt hơn\"\n",
        "- Có một điều ta có thể nhận ra là có rất ít các biến tương quan với biến 'đích' (`income_>50K`). Điều này có nghĩa là chúng nó không liên quan gì với nhau\n",
        "-Đây là những thuộc tính khá tốt cho mô hình bài toán"
      ]
    },
    {
      "cell_type": "markdown",
      "metadata": {
        "id": "jy8J5xMGoDQd"
      },
      "source": [
        "# **III. TIỀN XỬ LÍ DỮ LIỆU**"
      ]
    },
    {
      "cell_type": "code",
      "metadata": {
        "id": "xjRw2P53CHt2"
      },
      "source": [
        "X = data.drop(columns =\"income_>50K\")\n",
        "y = data[\"income_>50K\"]"
      ],
      "execution_count": 400,
      "outputs": []
    },
    {
      "cell_type": "markdown",
      "metadata": {
        "id": "CVRg6CJHGHMT"
      },
      "source": [
        "## **1. Làm sạch dữ liệu (Data Cleaning)**\n",
        "- Trong phần làm sạch dữ liệu, ta tiến hành xử lí dữ liệu bị thiếu và loại bỏ đi một số thuộc tính không cần thiết."
      ]
    },
    {
      "cell_type": "markdown",
      "metadata": {
        "id": "xEaVcLa1GdTa"
      },
      "source": [
        "### **1.1. Xử lí dữ liệu bị thiếu (Missing data processing)**"
      ]
    },
    {
      "cell_type": "markdown",
      "metadata": {
        "id": "WmTbtkKhG8oc"
      },
      "source": [
        "*1.1.1 Kiểm tra dữ liệu thiếu (Checking for missing data)*"
      ]
    },
    {
      "cell_type": "code",
      "metadata": {
        "colab": {
          "base_uri": "https://localhost:8080/",
          "height": 483
        },
        "id": "9ViBEFyhHCnW",
        "outputId": "5684f475-5e7d-4211-e95c-68772de29c2c"
      },
      "source": [
        "# Kiểm tra cột cụ thể nào có giá trị thiếu (null)\n",
        "total = X.isnull().sum()\n",
        "percent = (X.isnull().sum()/X.isnull().count()*100)\n",
        "missing_data = pd.concat([total, percent], axis=1, keys=['Total', 'Percent'])\n",
        "missing_data.head(15)"
      ],
      "execution_count": 401,
      "outputs": [
        {
          "output_type": "execute_result",
          "data": {
            "text/html": [
              "<div>\n",
              "<style scoped>\n",
              "    .dataframe tbody tr th:only-of-type {\n",
              "        vertical-align: middle;\n",
              "    }\n",
              "\n",
              "    .dataframe tbody tr th {\n",
              "        vertical-align: top;\n",
              "    }\n",
              "\n",
              "    .dataframe thead th {\n",
              "        text-align: right;\n",
              "    }\n",
              "</style>\n",
              "<table border=\"1\" class=\"dataframe\">\n",
              "  <thead>\n",
              "    <tr style=\"text-align: right;\">\n",
              "      <th></th>\n",
              "      <th>Total</th>\n",
              "      <th>Percent</th>\n",
              "    </tr>\n",
              "  </thead>\n",
              "  <tbody>\n",
              "    <tr>\n",
              "      <th>age</th>\n",
              "      <td>0</td>\n",
              "      <td>0.000000</td>\n",
              "    </tr>\n",
              "    <tr>\n",
              "      <th>workclass</th>\n",
              "      <td>2498</td>\n",
              "      <td>5.682826</td>\n",
              "    </tr>\n",
              "    <tr>\n",
              "      <th>fnlwgt</th>\n",
              "      <td>0</td>\n",
              "      <td>0.000000</td>\n",
              "    </tr>\n",
              "    <tr>\n",
              "      <th>education</th>\n",
              "      <td>0</td>\n",
              "      <td>0.000000</td>\n",
              "    </tr>\n",
              "    <tr>\n",
              "      <th>educational-num</th>\n",
              "      <td>0</td>\n",
              "      <td>0.000000</td>\n",
              "    </tr>\n",
              "    <tr>\n",
              "      <th>marital-status</th>\n",
              "      <td>0</td>\n",
              "      <td>0.000000</td>\n",
              "    </tr>\n",
              "    <tr>\n",
              "      <th>occupation</th>\n",
              "      <td>2506</td>\n",
              "      <td>5.701026</td>\n",
              "    </tr>\n",
              "    <tr>\n",
              "      <th>relationship</th>\n",
              "      <td>0</td>\n",
              "      <td>0.000000</td>\n",
              "    </tr>\n",
              "    <tr>\n",
              "      <th>race</th>\n",
              "      <td>0</td>\n",
              "      <td>0.000000</td>\n",
              "    </tr>\n",
              "    <tr>\n",
              "      <th>gender</th>\n",
              "      <td>0</td>\n",
              "      <td>0.000000</td>\n",
              "    </tr>\n",
              "    <tr>\n",
              "      <th>capital-gain</th>\n",
              "      <td>0</td>\n",
              "      <td>0.000000</td>\n",
              "    </tr>\n",
              "    <tr>\n",
              "      <th>capital-loss</th>\n",
              "      <td>0</td>\n",
              "      <td>0.000000</td>\n",
              "    </tr>\n",
              "    <tr>\n",
              "      <th>hours-per-week</th>\n",
              "      <td>0</td>\n",
              "      <td>0.000000</td>\n",
              "    </tr>\n",
              "    <tr>\n",
              "      <th>native-country</th>\n",
              "      <td>763</td>\n",
              "      <td>1.735787</td>\n",
              "    </tr>\n",
              "  </tbody>\n",
              "</table>\n",
              "</div>"
            ],
            "text/plain": [
              "                 Total   Percent\n",
              "age                  0  0.000000\n",
              "workclass         2498  5.682826\n",
              "fnlwgt               0  0.000000\n",
              "education            0  0.000000\n",
              "educational-num      0  0.000000\n",
              "marital-status       0  0.000000\n",
              "occupation        2506  5.701026\n",
              "relationship         0  0.000000\n",
              "race                 0  0.000000\n",
              "gender               0  0.000000\n",
              "capital-gain         0  0.000000\n",
              "capital-loss         0  0.000000\n",
              "hours-per-week       0  0.000000\n",
              "native-country     763  1.735787"
            ]
          },
          "metadata": {
            "tags": []
          },
          "execution_count": 401
        }
      ]
    },
    {
      "cell_type": "markdown",
      "metadata": {
        "id": "a5sjzbZQHFjb"
      },
      "source": [
        "***- Nhận xét***: \n",
        "- Ta thấy có 3 thuộc tính hiện đang thiếu dữ liệu bao gồm: workclass (thiếu 2498 mẫu), occupation (thiếu 2506 mẫu) và native-country (thiếu 763 mẫu)."
      ]
    },
    {
      "cell_type": "markdown",
      "metadata": {
        "id": "Ni_Kp-xWHIfM"
      },
      "source": [
        "*1.1.2 Thay thế dữ liệu khuyết (Replacing Data)*\n",
        "- Ta thấy 3 thuộc tính \"workclass\", \"occupation\", \"native-country\" đều có kiểu là nominal do đó sẽ thay thế các giá trị thiếu bằng giá trị xuất hiện nhiều nhất trong thuộc tính đó."
      ]
    },
    {
      "cell_type": "code",
      "metadata": {
        "colab": {
          "base_uri": "https://localhost:8080/",
          "height": 80
        },
        "id": "5aEAnpogHPng",
        "outputId": "7dc43f05-0177-45a8-b825-b4eb937906a7"
      },
      "source": [
        "# In ra giá trị có tần xuất xuất hiện nhiều nhất của các thuộc tính\n",
        "X.mode()"
      ],
      "execution_count": 402,
      "outputs": [
        {
          "output_type": "execute_result",
          "data": {
            "text/html": [
              "<div>\n",
              "<style scoped>\n",
              "    .dataframe tbody tr th:only-of-type {\n",
              "        vertical-align: middle;\n",
              "    }\n",
              "\n",
              "    .dataframe tbody tr th {\n",
              "        vertical-align: top;\n",
              "    }\n",
              "\n",
              "    .dataframe thead th {\n",
              "        text-align: right;\n",
              "    }\n",
              "</style>\n",
              "<table border=\"1\" class=\"dataframe\">\n",
              "  <thead>\n",
              "    <tr style=\"text-align: right;\">\n",
              "      <th></th>\n",
              "      <th>age</th>\n",
              "      <th>workclass</th>\n",
              "      <th>fnlwgt</th>\n",
              "      <th>education</th>\n",
              "      <th>educational-num</th>\n",
              "      <th>marital-status</th>\n",
              "      <th>occupation</th>\n",
              "      <th>relationship</th>\n",
              "      <th>race</th>\n",
              "      <th>gender</th>\n",
              "      <th>capital-gain</th>\n",
              "      <th>capital-loss</th>\n",
              "      <th>hours-per-week</th>\n",
              "      <th>native-country</th>\n",
              "    </tr>\n",
              "  </thead>\n",
              "  <tbody>\n",
              "    <tr>\n",
              "      <th>0</th>\n",
              "      <td>33</td>\n",
              "      <td>Private</td>\n",
              "      <td>203488</td>\n",
              "      <td>HS-grad</td>\n",
              "      <td>9</td>\n",
              "      <td>Married-civ-spouse</td>\n",
              "      <td>Craft-repair</td>\n",
              "      <td>Husband</td>\n",
              "      <td>White</td>\n",
              "      <td>Male</td>\n",
              "      <td>0</td>\n",
              "      <td>0</td>\n",
              "      <td>40</td>\n",
              "      <td>United-States</td>\n",
              "    </tr>\n",
              "  </tbody>\n",
              "</table>\n",
              "</div>"
            ],
            "text/plain": [
              "   age workclass  fnlwgt  ... capital-loss  hours-per-week native-country\n",
              "0   33   Private  203488  ...            0              40  United-States\n",
              "\n",
              "[1 rows x 14 columns]"
            ]
          },
          "metadata": {
            "tags": []
          },
          "execution_count": 402
        }
      ]
    },
    {
      "cell_type": "code",
      "metadata": {
        "colab": {
          "base_uri": "https://localhost:8080/"
        },
        "id": "TfcHUcT8GE3-",
        "outputId": "c680b6b9-c2e2-4c51-ae69-725d41278798"
      },
      "source": [
        "cate = [var for var in data.columns if data[var].dtype=='O']\n",
        "for col in cate:\n",
        "    print(\"Cột {} có giá trị xuất hiện nhiều nhất là: {}\".format(col, data[col].mode()[0]))\n",
        "    data[col].fillna(data[col].mode()[0], inplace=True)"
      ],
      "execution_count": 403,
      "outputs": [
        {
          "output_type": "stream",
          "text": [
            "Cột workclass có giá trị xuất hiện nhiều nhất là: Private\n",
            "Cột education có giá trị xuất hiện nhiều nhất là: HS-grad\n",
            "Cột marital-status có giá trị xuất hiện nhiều nhất là: Married-civ-spouse\n",
            "Cột occupation có giá trị xuất hiện nhiều nhất là: Craft-repair\n",
            "Cột relationship có giá trị xuất hiện nhiều nhất là: Husband\n",
            "Cột race có giá trị xuất hiện nhiều nhất là: White\n",
            "Cột gender có giá trị xuất hiện nhiều nhất là: Male\n",
            "Cột native-country có giá trị xuất hiện nhiều nhất là: United-States\n"
          ],
          "name": "stdout"
        }
      ]
    },
    {
      "cell_type": "markdown",
      "metadata": {
        "id": "GHOUjVxQoI9J"
      },
      "source": [
        "### **2. Loại bỏ một số thuộc tính (Removing some attributes)**\n",
        "- Ta tiến hành loại bỏ thuộc tính 'educational-num' vì nó là đại diện kiểu numeric cho thuộc tính 'education'. "
      ]
    },
    {
      "cell_type": "code",
      "metadata": {
        "id": "PmbbSywKx61k"
      },
      "source": [
        "class DataCleaning(BaseEstimator, TransformerMixin):\n",
        "    # def __init__(self):\n",
        "    def fit(self, X, y):\n",
        "        return self\n",
        "    def transform(self, X, y):\n",
        "        X_ = X.copy()\n",
        "        y_ = y.copy()\n",
        "        #Bỏ cột dữ liệu educat.ional-num\n",
        "        X_ = X_.drop(['educational-num'], axis = 1)\n",
        "\n",
        "        # Xử lý thuộc tính workclass có giá trị NaN thành giá trị xuất hiện nhiều nhất \n",
        "        X_['workclass'].fillna(X_.workclass.mode().to_string(), inplace=True)\n",
        "\n",
        "        # Xử lý thuộc tính occupation, native-country có giá trị NaN thành giá trị xuất hiện nhiều nhất \n",
        "\n",
        "        X_ = X_.fillna(value={'occupation':'Craft-repair','native-country':'United-States'})\n",
        "\n",
        "        return X_, y_\n",
        "\n",
        "    def fit_transform(self, X, y):\n",
        "        return self.fit(X, y).transform(X, y)"
      ],
      "execution_count": 404,
      "outputs": []
    },
    {
      "cell_type": "code",
      "metadata": {
        "id": "1HMrrZQ8KF9k"
      },
      "source": [
        "X, y = DataCleaning().fit_transform(X, y)"
      ],
      "execution_count": 405,
      "outputs": []
    },
    {
      "cell_type": "code",
      "metadata": {
        "colab": {
          "base_uri": "https://localhost:8080/",
          "height": 377
        },
        "id": "sSYQrIKwKMBI",
        "outputId": "8c8e2943-6dc0-4c80-9c14-c705b8682ff4"
      },
      "source": [
        "X.head(5)"
      ],
      "execution_count": 406,
      "outputs": [
        {
          "output_type": "execute_result",
          "data": {
            "text/html": [
              "<div>\n",
              "<style scoped>\n",
              "    .dataframe tbody tr th:only-of-type {\n",
              "        vertical-align: middle;\n",
              "    }\n",
              "\n",
              "    .dataframe tbody tr th {\n",
              "        vertical-align: top;\n",
              "    }\n",
              "\n",
              "    .dataframe thead th {\n",
              "        text-align: right;\n",
              "    }\n",
              "</style>\n",
              "<table border=\"1\" class=\"dataframe\">\n",
              "  <thead>\n",
              "    <tr style=\"text-align: right;\">\n",
              "      <th></th>\n",
              "      <th>age</th>\n",
              "      <th>workclass</th>\n",
              "      <th>fnlwgt</th>\n",
              "      <th>education</th>\n",
              "      <th>marital-status</th>\n",
              "      <th>occupation</th>\n",
              "      <th>relationship</th>\n",
              "      <th>race</th>\n",
              "      <th>gender</th>\n",
              "      <th>capital-gain</th>\n",
              "      <th>capital-loss</th>\n",
              "      <th>hours-per-week</th>\n",
              "      <th>native-country</th>\n",
              "    </tr>\n",
              "  </thead>\n",
              "  <tbody>\n",
              "    <tr>\n",
              "      <th>0</th>\n",
              "      <td>67</td>\n",
              "      <td>Private</td>\n",
              "      <td>366425</td>\n",
              "      <td>Doctorate</td>\n",
              "      <td>Divorced</td>\n",
              "      <td>Exec-managerial</td>\n",
              "      <td>Not-in-family</td>\n",
              "      <td>White</td>\n",
              "      <td>Male</td>\n",
              "      <td>99999</td>\n",
              "      <td>0</td>\n",
              "      <td>60</td>\n",
              "      <td>United-States</td>\n",
              "    </tr>\n",
              "    <tr>\n",
              "      <th>1</th>\n",
              "      <td>17</td>\n",
              "      <td>Private</td>\n",
              "      <td>244602</td>\n",
              "      <td>12th</td>\n",
              "      <td>Never-married</td>\n",
              "      <td>Other-service</td>\n",
              "      <td>Own-child</td>\n",
              "      <td>White</td>\n",
              "      <td>Male</td>\n",
              "      <td>0</td>\n",
              "      <td>0</td>\n",
              "      <td>15</td>\n",
              "      <td>United-States</td>\n",
              "    </tr>\n",
              "    <tr>\n",
              "      <th>2</th>\n",
              "      <td>31</td>\n",
              "      <td>Private</td>\n",
              "      <td>174201</td>\n",
              "      <td>Bachelors</td>\n",
              "      <td>Married-civ-spouse</td>\n",
              "      <td>Exec-managerial</td>\n",
              "      <td>Husband</td>\n",
              "      <td>White</td>\n",
              "      <td>Male</td>\n",
              "      <td>0</td>\n",
              "      <td>0</td>\n",
              "      <td>40</td>\n",
              "      <td>United-States</td>\n",
              "    </tr>\n",
              "    <tr>\n",
              "      <th>3</th>\n",
              "      <td>58</td>\n",
              "      <td>State-gov</td>\n",
              "      <td>110199</td>\n",
              "      <td>7th-8th</td>\n",
              "      <td>Married-civ-spouse</td>\n",
              "      <td>Transport-moving</td>\n",
              "      <td>Husband</td>\n",
              "      <td>White</td>\n",
              "      <td>Male</td>\n",
              "      <td>0</td>\n",
              "      <td>0</td>\n",
              "      <td>40</td>\n",
              "      <td>United-States</td>\n",
              "    </tr>\n",
              "    <tr>\n",
              "      <th>4</th>\n",
              "      <td>25</td>\n",
              "      <td>State-gov</td>\n",
              "      <td>149248</td>\n",
              "      <td>Some-college</td>\n",
              "      <td>Never-married</td>\n",
              "      <td>Other-service</td>\n",
              "      <td>Not-in-family</td>\n",
              "      <td>Black</td>\n",
              "      <td>Male</td>\n",
              "      <td>0</td>\n",
              "      <td>0</td>\n",
              "      <td>40</td>\n",
              "      <td>United-States</td>\n",
              "    </tr>\n",
              "  </tbody>\n",
              "</table>\n",
              "</div>"
            ],
            "text/plain": [
              "   age  workclass  fnlwgt  ... capital-loss hours-per-week native-country\n",
              "0   67    Private  366425  ...            0             60  United-States\n",
              "1   17    Private  244602  ...            0             15  United-States\n",
              "2   31    Private  174201  ...            0             40  United-States\n",
              "3   58  State-gov  110199  ...            0             40  United-States\n",
              "4   25  State-gov  149248  ...            0             40  United-States\n",
              "\n",
              "[5 rows x 13 columns]"
            ]
          },
          "metadata": {
            "tags": []
          },
          "execution_count": 406
        }
      ]
    },
    {
      "cell_type": "code",
      "metadata": {
        "colab": {
          "base_uri": "https://localhost:8080/"
        },
        "id": "B8MzgOdGHe6m",
        "outputId": "f8a9628f-82dd-4f1e-8793-d8dca88ac8bc"
      },
      "source": [
        "# ta sẽ kiểm tra xem tất cả các thuộc tính đã đầy đủ dữ liệu chưa?\n",
        "X.isnull().sum()"
      ],
      "execution_count": 407,
      "outputs": [
        {
          "output_type": "execute_result",
          "data": {
            "text/plain": [
              "age               0\n",
              "workclass         0\n",
              "fnlwgt            0\n",
              "education         0\n",
              "marital-status    0\n",
              "occupation        0\n",
              "relationship      0\n",
              "race              0\n",
              "gender            0\n",
              "capital-gain      0\n",
              "capital-loss      0\n",
              "hours-per-week    0\n",
              "native-country    0\n",
              "dtype: int64"
            ]
          },
          "metadata": {
            "tags": []
          },
          "execution_count": 407
        }
      ]
    },
    {
      "cell_type": "markdown",
      "metadata": {
        "id": "UOjoC_H97KDD"
      },
      "source": [
        "## **3. Mã hóa thuộc tính dạng nhóm (Encoding nominal attributes)**\n",
        "\n",
        "- *Mã hóa LabelEncoder*\n",
        "\n",
        "Để cho máy có thể học được, bắt buộc ta phải mã hóa thuộc tính dạng nhóm, thành một hoặc nhiều thuộc tính dạng số (numeric attributes). Một trong những cách để mã hóa đó là mã hóa LabelEncoder.\n"
      ]
    },
    {
      "cell_type": "code",
      "metadata": {
        "id": "XiqI-i3x7kgI"
      },
      "source": [
        "# LabelEncoder\n",
        "class MultiColumnLabelEncoder(BaseEstimator, TransformerMixin):\n",
        "    def __init__(self,columns=None):\n",
        "        self.columns = columns\n",
        "\n",
        "    def fit(self,X, y=None):\n",
        "        return self\n",
        "\n",
        "    def transform(self, X, y=None):\n",
        "        X_ = X# .copy()\n",
        "        if self.columns is not None:\n",
        "            for col in self.columns:\n",
        "                X_[col] = LabelEncoder().fit_transform(X_[col])\n",
        "        else:\n",
        "            for colname,col in X_.iteritems():\n",
        "                X_[colname] = LabelEncoder().fit_transform(col)\n",
        "        return X_\n",
        "    def fit_transform(self,X,y=None):\n",
        "        return self.fit(X,y).transform(X)"
      ],
      "execution_count": 408,
      "outputs": []
    },
    {
      "cell_type": "code",
      "metadata": {
        "id": "BZEDN-5uOBvs"
      },
      "source": [
        "# num_features = X.select_dtypes(exclude=[object]).columns.to_list()\n",
        "cat_features = X.select_dtypes(exclude=[np.number]).columns.to_list()\n",
        "MCLE = MultiColumnLabelEncoder(cat_features)\n",
        "X = MultiColumnLabelEncoder(cat_features).fit_transform(X)"
      ],
      "execution_count": 409,
      "outputs": []
    },
    {
      "cell_type": "code",
      "metadata": {
        "colab": {
          "base_uri": "https://localhost:8080/",
          "height": 258
        },
        "id": "Rckc8t8NOcwr",
        "outputId": "723ffebe-3679-4264-db5b-1ff74974c2b0"
      },
      "source": [
        "X.head()"
      ],
      "execution_count": 410,
      "outputs": [
        {
          "output_type": "execute_result",
          "data": {
            "text/html": [
              "<div>\n",
              "<style scoped>\n",
              "    .dataframe tbody tr th:only-of-type {\n",
              "        vertical-align: middle;\n",
              "    }\n",
              "\n",
              "    .dataframe tbody tr th {\n",
              "        vertical-align: top;\n",
              "    }\n",
              "\n",
              "    .dataframe thead th {\n",
              "        text-align: right;\n",
              "    }\n",
              "</style>\n",
              "<table border=\"1\" class=\"dataframe\">\n",
              "  <thead>\n",
              "    <tr style=\"text-align: right;\">\n",
              "      <th></th>\n",
              "      <th>age</th>\n",
              "      <th>workclass</th>\n",
              "      <th>fnlwgt</th>\n",
              "      <th>education</th>\n",
              "      <th>marital-status</th>\n",
              "      <th>occupation</th>\n",
              "      <th>relationship</th>\n",
              "      <th>race</th>\n",
              "      <th>gender</th>\n",
              "      <th>capital-gain</th>\n",
              "      <th>capital-loss</th>\n",
              "      <th>hours-per-week</th>\n",
              "      <th>native-country</th>\n",
              "    </tr>\n",
              "  </thead>\n",
              "  <tbody>\n",
              "    <tr>\n",
              "      <th>0</th>\n",
              "      <td>67</td>\n",
              "      <td>4</td>\n",
              "      <td>366425</td>\n",
              "      <td>10</td>\n",
              "      <td>0</td>\n",
              "      <td>3</td>\n",
              "      <td>1</td>\n",
              "      <td>4</td>\n",
              "      <td>1</td>\n",
              "      <td>99999</td>\n",
              "      <td>0</td>\n",
              "      <td>60</td>\n",
              "      <td>38</td>\n",
              "    </tr>\n",
              "    <tr>\n",
              "      <th>1</th>\n",
              "      <td>17</td>\n",
              "      <td>4</td>\n",
              "      <td>244602</td>\n",
              "      <td>2</td>\n",
              "      <td>4</td>\n",
              "      <td>7</td>\n",
              "      <td>3</td>\n",
              "      <td>4</td>\n",
              "      <td>1</td>\n",
              "      <td>0</td>\n",
              "      <td>0</td>\n",
              "      <td>15</td>\n",
              "      <td>38</td>\n",
              "    </tr>\n",
              "    <tr>\n",
              "      <th>2</th>\n",
              "      <td>31</td>\n",
              "      <td>4</td>\n",
              "      <td>174201</td>\n",
              "      <td>9</td>\n",
              "      <td>2</td>\n",
              "      <td>3</td>\n",
              "      <td>0</td>\n",
              "      <td>4</td>\n",
              "      <td>1</td>\n",
              "      <td>0</td>\n",
              "      <td>0</td>\n",
              "      <td>40</td>\n",
              "      <td>38</td>\n",
              "    </tr>\n",
              "    <tr>\n",
              "      <th>3</th>\n",
              "      <td>58</td>\n",
              "      <td>7</td>\n",
              "      <td>110199</td>\n",
              "      <td>5</td>\n",
              "      <td>2</td>\n",
              "      <td>13</td>\n",
              "      <td>0</td>\n",
              "      <td>4</td>\n",
              "      <td>1</td>\n",
              "      <td>0</td>\n",
              "      <td>0</td>\n",
              "      <td>40</td>\n",
              "      <td>38</td>\n",
              "    </tr>\n",
              "    <tr>\n",
              "      <th>4</th>\n",
              "      <td>25</td>\n",
              "      <td>7</td>\n",
              "      <td>149248</td>\n",
              "      <td>15</td>\n",
              "      <td>4</td>\n",
              "      <td>7</td>\n",
              "      <td>1</td>\n",
              "      <td>2</td>\n",
              "      <td>1</td>\n",
              "      <td>0</td>\n",
              "      <td>0</td>\n",
              "      <td>40</td>\n",
              "      <td>38</td>\n",
              "    </tr>\n",
              "  </tbody>\n",
              "</table>\n",
              "</div>"
            ],
            "text/plain": [
              "   age  workclass  fnlwgt  ...  capital-loss  hours-per-week  native-country\n",
              "0   67          4  366425  ...             0              60              38\n",
              "1   17          4  244602  ...             0              15              38\n",
              "2   31          4  174201  ...             0              40              38\n",
              "3   58          7  110199  ...             0              40              38\n",
              "4   25          7  149248  ...             0              40              38\n",
              "\n",
              "[5 rows x 13 columns]"
            ]
          },
          "metadata": {
            "tags": []
          },
          "execution_count": 410
        }
      ]
    },
    {
      "cell_type": "markdown",
      "metadata": {
        "id": "HLmRsRQSDjFn"
      },
      "source": [
        "## **4. Co giãn dữ liệu (Scaling data)**\n",
        "\n",
        "- *Chính quy hóa (standardisation)*\n",
        "\n",
        "Co giãn dữ liệu là một phương pháp chuẩn hóa phạm vi của các đặc trưng dữ liệu và được thực hiện trong suốt quá trình tiền xử lí dữ liệu. Có các cách để co giãn dữ liệu như chuẩn hóa min-max, co giãn trung bình,...Chúng tôi sử dụng sử chính quy hóa (standardisation).\n",
        "\n",
        "Việc chính quy hóa dữ liệu giúp cho giá trị của mỗi đặc trưng có trung bình bằng 0 và phương sai bằng 1. Phương pháp này được sử dụng rộng rãi trong việc chuẩn hóa dữ liệu của nhiều thuật toán học máy (SVM, logistic regression và ANNs).\n",
        "\n",
        "Để tính toán chính quy hóa dữ liệu, ta phải xác định trung bình và độ lệch chuẩn cho phân phối của mỗi đặc trưng. Tiếp theo ta lấy mỗi giá trị của đặc trưng trừ đi giá trị trung bình rồi chia cho độ lệch chuẩn của đặc trưng đó như công thức dưới đây:\n",
        "\n",
        "![10-12-2018-22-38-40-image.png](data:image/png;base64,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)\n",
        "\n",
        "Trong đó *x* là véc-tơ đặc trưng ban đầu, *average(x)* là trung bình của véc-tơ đặc trưng đó và *std(x)* là độ lệch chuẩn của nó."
      ]
    },
    {
      "cell_type": "code",
      "metadata": {
        "colab": {
          "base_uri": "https://localhost:8080/"
        },
        "id": "1mj1qAc7DuPI",
        "outputId": "6f09f622-1c28-4b25-f7ef-a05435d39cbf"
      },
      "source": [
        "# Standardization\n",
        "print('Standardization')\n",
        "\n",
        "from sklearn.preprocessing import StandardScaler\n",
        "\n",
        "X = StandardScaler().fit_transform(X)\n",
        "\n",
        "X[:1]"
      ],
      "execution_count": 411,
      "outputs": [
        {
          "output_type": "stream",
          "text": [
            "Standardization\n"
          ],
          "name": "stdout"
        },
        {
          "output_type": "execute_result",
          "data": {
            "text/plain": [
              "array([[ 2.06657533,  0.08890486,  1.670303  , -0.07327939, -1.73719631,\n",
              "        -0.6868188 , -0.27633216,  0.39280153,  0.70365905, 13.0646713 ,\n",
              "        -0.21811671,  1.58000407,  0.26095218]])"
            ]
          },
          "metadata": {
            "tags": []
          },
          "execution_count": 411
        }
      ]
    },
    {
      "cell_type": "markdown",
      "metadata": {
        "id": "n5o2G1n1A2_E"
      },
      "source": [
        "## Gộp các bước tiền xử lí thành một hàm"
      ]
    },
    {
      "cell_type": "code",
      "metadata": {
        "id": "eGdVdF7lA2RB"
      },
      "source": [
        "def preprocessor(X, y):\n",
        "    X, y = DataCleaning().fit_transform(X, y)\n",
        "    X = MultiColumnLabelEncoder().fit_transform(X)\n",
        "\n",
        "    column_name = X.columns\n",
        "    indices = X.index\n",
        "    X = StandardScaler().fit_transform(X)\n",
        "    return pd.DataFrame(X, columns=column_name, index=indices), y"
      ],
      "execution_count": 412,
      "outputs": []
    },
    {
      "cell_type": "code",
      "metadata": {
        "id": "VVqsbCsnOrrb"
      },
      "source": [
        "X = data.drop(\"income_>50K\", axis=1)\n",
        "y = data[\"income_>50K\"].copy()\n",
        "\n",
        "X, y = preprocessor(X, y)\n",
        "#Gộp lại như cũ\n",
        "data = pd.concat([X, y], axis=1, sort=False)"
      ],
      "execution_count": 413,
      "outputs": []
    },
    {
      "cell_type": "code",
      "metadata": {
        "colab": {
          "base_uri": "https://localhost:8080/"
        },
        "id": "yZ0mUlLgLMsT",
        "outputId": "40f3e716-07ca-4d9e-df99-359295244eaa"
      },
      "source": [
        "X.info()"
      ],
      "execution_count": 414,
      "outputs": [
        {
          "output_type": "stream",
          "text": [
            "<class 'pandas.core.frame.DataFrame'>\n",
            "RangeIndex: 43957 entries, 0 to 43956\n",
            "Data columns (total 13 columns):\n",
            " #   Column          Non-Null Count  Dtype  \n",
            "---  ------          --------------  -----  \n",
            " 0   age             43957 non-null  float64\n",
            " 1   workclass       43957 non-null  float64\n",
            " 2   fnlwgt          43957 non-null  float64\n",
            " 3   education       43957 non-null  float64\n",
            " 4   marital-status  43957 non-null  float64\n",
            " 5   occupation      43957 non-null  float64\n",
            " 6   relationship    43957 non-null  float64\n",
            " 7   race            43957 non-null  float64\n",
            " 8   gender          43957 non-null  float64\n",
            " 9   capital-gain    43957 non-null  float64\n",
            " 10  capital-loss    43957 non-null  float64\n",
            " 11  hours-per-week  43957 non-null  float64\n",
            " 12  native-country  43957 non-null  float64\n",
            "dtypes: float64(13)\n",
            "memory usage: 4.4 MB\n"
          ],
          "name": "stdout"
        }
      ]
    },
    {
      "cell_type": "markdown",
      "metadata": {
        "id": "qgFiBmYYAsj5"
      },
      "source": [
        "## **5. Tách dữ liệu train-test (Train-test-split)**"
      ]
    },
    {
      "cell_type": "code",
      "metadata": {
        "id": "itL0SudXJVFM"
      },
      "source": [
        "from sklearn.model_selection import train_test_split\n",
        "data_X_0 = data[data['income_>50K'] ==0]\n",
        "data_Y_0 = data[data['income_>50K'] ==1]"
      ],
      "execution_count": 415,
      "outputs": []
    },
    {
      "cell_type": "code",
      "metadata": {
        "colab": {
          "base_uri": "https://localhost:8080/"
        },
        "id": "x5qUhnPoAqmD",
        "outputId": "1474789f-5478-458b-e8e3-377af6ce2dab"
      },
      "source": [
        "train_data_0, test_data_0 = train_test_split(data_X_0, test_size = 0.3, random_state = 42)\n",
        "train_data_1, test_data_1 = train_test_split(data_Y_0, test_size = 0.3, random_state = 42)\n",
        "\n",
        "train_data = pd.concat([train_data_0, train_data_1])\n",
        "train_data = train_data.sample(n = train_data.shape[0], random_state = 42)\n",
        "\n",
        "test_data = pd.concat([test_data_0,test_data_1])\n",
        "test_data = test_data.sample(n = test_data.shape[0] ,random_state = 42)\n",
        "\n",
        "train_data.shape\n",
        "\n",
        "#Tập dữ liệu train\n",
        "X_train = train_data.drop(\"income_>50K\", axis=1)\n",
        "y_train = train_data[\"income_>50K\"].copy()\n",
        "X_train.shape "
      ],
      "execution_count": 416,
      "outputs": [
        {
          "output_type": "execute_result",
          "data": {
            "text/plain": [
              "(30769, 13)"
            ]
          },
          "metadata": {
            "tags": []
          },
          "execution_count": 416
        }
      ]
    },
    {
      "cell_type": "code",
      "metadata": {
        "colab": {
          "base_uri": "https://localhost:8080/"
        },
        "id": "IuQcu8z1UuaW",
        "outputId": "5b9c945f-9f90-4b0b-8bdc-0c65805754c1"
      },
      "source": [
        "#Tập dữ liệu test\n",
        "X_test = test_data.drop(\"income_>50K\", axis=1)\n",
        "y_test = test_data[\"income_>50K\"].copy()\n",
        "X_test.shape\n",
        "#Xong phần xử lý"
      ],
      "execution_count": 417,
      "outputs": [
        {
          "output_type": "execute_result",
          "data": {
            "text/plain": [
              "(13188, 13)"
            ]
          },
          "metadata": {
            "tags": []
          },
          "execution_count": 417
        }
      ]
    },
    {
      "cell_type": "markdown",
      "metadata": {
        "id": "SQmeNWSuoI1N"
      },
      "source": [
        "***- Nhận xét chung:***\n",
        "- Các dữ liệu bị thiếu đã được thêm vào đầy đủ\n",
        "- Chuẩn hóa các thuộc tính để khi huấn luyện mô hình được tốt hơn(co giãn dữ liệu)\n",
        "- Chia thành 2 tập train/test để đào tạo và kiểm định"
      ]
    },
    {
      "cell_type": "markdown",
      "metadata": {
        "id": "sSt58-mCp-L1"
      },
      "source": [
        "# **IV. HUẤN LUYỆN DỮ LIỆU**"
      ]
    },
    {
      "cell_type": "markdown",
      "metadata": {
        "id": "4AZn_srreij9"
      },
      "source": [
        "## Huấn luyện mô hình"
      ]
    },
    {
      "cell_type": "markdown",
      "metadata": {
        "id": "7ZfCbuIaEP5L"
      },
      "source": [
        "# **Mục tiêu:**\n",
        "- *Huấn luyện mô hình để đạt kết quả dự đoán tốt*\n",
        "- *Dùng các độ đo như Accuracy, Precison, Recall, F1 để đánh giá kết quả mô hình*\n",
        "\n",
        "**Quy ước 1 số độ đo**\n",
        "- Precision (tỷ lệ các điểm thực sự = 1 trong số những điểm được dự đoán = 1) \n",
        "- Recall (Tỷ lệ những điểm = 1 trong những điểm thực sự = 1)"
      ]
    },
    {
      "cell_type": "code",
      "metadata": {
        "id": "zFpqDXtbQgJB"
      },
      "source": [
        "import time\n",
        "from sklearn.pipeline import Pipeline\n",
        "from sklearn.model_selection import KFold, cross_val_score, cross_val_predict\n",
        "from sklearn.linear_model import LogisticRegression\n",
        "from sklearn.svm import SVC\n",
        "from sklearn.tree import DecisionTreeClassifier\n",
        "from sklearn.ensemble import RandomForestClassifier\n",
        "from sklearn.metrics import accuracy_score, precision_score, recall_score, f1_score\n",
        "from sklearn.metrics import precision_recall_curve, confusion_matrix\n",
        "from sklearn.ensemble import VotingClassifier\n",
        "from sklearn.tree import export_text\n",
        "from sklearn import tree\n",
        "from matplotlib import pyplot as plt"
      ],
      "execution_count": 418,
      "outputs": []
    },
    {
      "cell_type": "code",
      "metadata": {
        "id": "q0M5pP4gQ8XZ"
      },
      "source": [
        "# Hàm vẽ confusion matrix\n",
        "def CM_plot(M):\n",
        "    X = [i/sum(i) for i in M]\n",
        "    fig, ax = plt.subplots(figsize=(8,6))\n",
        "    sns.heatmap(X, cmap='Blues', square = True, annot=True, ax=ax)\n",
        "# Hàm vẽ tương quan predict và recall theo thresholds\n",
        "def plot_precision_recall_vs_threshold(precisions, recalls, thresholds, axlim):\n",
        "    plt.plot(thresholds, precisions[:-1], \"b--\", label=\"Precision\", linewidth=2)\n",
        "    plt.plot(thresholds, recalls[:-1], \"g-\", label=\"Recall\", linewidth=2)\n",
        "    plt.legend(loc=\"center right\", fontsize=16)\n",
        "    plt.xlabel(\"Threshold\", fontsize=16)\n",
        "    plt.grid(True)\n",
        "    plt.axis([-axlim, axlim, -0.05, 1.05])"
      ],
      "execution_count": 419,
      "outputs": []
    },
    {
      "cell_type": "markdown",
      "metadata": {
        "id": "nxcfpmZqGbd4"
      },
      "source": [
        "###LogisticRegression\n"
      ]
    },
    {
      "cell_type": "code",
      "metadata": {
        "colab": {
          "base_uri": "https://localhost:8080/"
        },
        "id": "YB-sN1um85el",
        "outputId": "098dc925-cad9-4d35-81e6-06afe1ddf79e"
      },
      "source": [
        "start = time.time()\n",
        "LR_model = LogisticRegression(C = 100, solver='liblinear', random_state=0, max_iter=1000)\n",
        "LR_model.fit(X_train, y_train)\n",
        "y_pred = LR_model.predict(X_train)\n",
        "stop = time.time()\n",
        "LR_time = {stop - start}\n",
        "print(f\"Training time: {time_LR} s\")\n",
        "#y_train_pred = cross_val_predict(LR_model, X, y, cv=3)"
      ],
      "execution_count": 420,
      "outputs": [
        {
          "output_type": "stream",
          "text": [
            "Training time: {0.06948614120483398} s\n"
          ],
          "name": "stdout"
        }
      ]
    },
    {
      "cell_type": "code",
      "metadata": {
        "id": "yCQ3tfIy_dt9"
      },
      "source": [
        "y_train_pred = cross_val_predict(LR_model, X_train, y_train, cv=3)"
      ],
      "execution_count": 421,
      "outputs": []
    },
    {
      "cell_type": "code",
      "metadata": {
        "colab": {
          "base_uri": "https://localhost:8080/",
          "height": 348
        },
        "id": "vSmVBHk0emeg",
        "outputId": "87dac75c-799e-49b2-f63e-079742f663d6"
      },
      "source": [
        "#Xem ma trận nhầm lẫn\n",
        "cm_matrix = pd.crosstab(y_train, y_train_pred, rownames=[\"Thực sự\"], colnames=[\"Dự đoán\"])\n",
        "sns.heatmap(cm_matrix, annot=True, fmt=\"d\")\n",
        "\n",
        "precision_score_LR = precision_score(y_train, y_train_pred)\n",
        "recall_score_LR = recall_score(y_train, y_train_pred)\n",
        "accuracy_score_LR = accuracy_score(y_train, y_train_pred)\n",
        "\n",
        "print(\"accuracy score:\", round(accuracy_score(y_train, y_train_pred), 4))\n",
        "print(\"precision score:\", round(precision_score(y_train, y_train_pred), 4))\n",
        "print(\"recall score:\", round(recall_score(y_train, y_train_pred), 4))\n",
        "print(\"f1 score:\", round(f1_score(y_train, y_train_pred), 4)) "
      ],
      "execution_count": 422,
      "outputs": [
        {
          "output_type": "stream",
          "text": [
            "accuracy score: 0.8029\n",
            "precision score: 0.6888\n",
            "recall score: 0.3214\n",
            "f1 score: 0.4383\n"
          ],
          "name": "stdout"
        },
        {
          "output_type": "display_data",
          "data": {
            "image/png": "[encoded data removed]",
            "text/plain": [
              "<Figure size 432x288 with 2 Axes>"
            ]
          },
          "metadata": {
            "tags": [],
            "needs_background": "light"
          }
        }
      ]
    },
    {
      "cell_type": "code",
      "metadata": {
        "colab": {
          "base_uri": "https://localhost:8080/",
          "height": 374
        },
        "id": "Rpc7lCTYBiOp",
        "outputId": "b2e53af7-5de4-4497-e78e-f7c6fc37edb2"
      },
      "source": [
        "#Chuẩn hóa ma trận\n",
        "CM_plot(confusion_matrix(y_train, y_train_pred))"
      ],
      "execution_count": 423,
      "outputs": [
        {
          "output_type": "display_data",
          "data": {
            "image/png": "[encoded data removed]",
            "text/plain": [
              "<Figure size 576x432 with 2 Axes>"
            ]
          },
          "metadata": {
            "tags": [],
            "needs_background": "light"
          }
        }
      ]
    },
    {
      "cell_type": "markdown",
      "metadata": {
        "id": "7hHrk1HSGlpE"
      },
      "source": [
        "***- Nhận xét chung mô hình Logistic Regression:*** \n",
        "- Sau khi cố gắng thay đổi một số tham số trên mô hình Logistic thì chúng ta nhận thấy các kết quả(độ đánh giá) của mô hình thực sự không thay đổi nhiều"
      ]
    },
    {
      "cell_type": "markdown",
      "metadata": {
        "id": "EtqJrrJtGmd3"
      },
      "source": [
        "###DecisionTreeClassifier"
      ]
    },
    {
      "cell_type": "code",
      "metadata": {
        "colab": {
          "base_uri": "https://localhost:8080/",
          "height": 867
        },
        "id": "BMK7worIGj4K",
        "outputId": "feabf150-dddf-4599-bb60-bc2b38b6ffa1"
      },
      "source": [
        "#Thử nghiệm mô hình với max_depth = 3 (Đạt kết quả khá tốt)\n",
        "start = time.time()\n",
        "X_train_name = [var for var in X_train.columns]\n",
        "DT_model = DecisionTreeClassifier(random_state=0, max_depth=3)\n",
        "DT_model = DT_model.fit(X_train, y_train)\n",
        "y_train_str = y_train.astype(str)\n",
        "stop = time.time()\n",
        "DT_time = {stop - start}\n",
        "print(f\"Training time: {DT_time}s\")\n",
        "fig = plt.figure(figsize=(10,10))\n",
        "tree.plot_tree(DT_model, feature_names=X_train_name,  class_names=y_train_str.unique(), filled=True)"
      ],
      "execution_count": 424,
      "outputs": [
        {
          "output_type": "stream",
          "text": [
            "Training time: {0.07050824165344238}s\n"
          ],
          "name": "stdout"
        },
        {
          "output_type": "execute_result",
          "data": {
            "text/plain": [
              "[Text(279.0, 475.65000000000003, 'relationship <= -0.589\\ngini = 0.364\\nsamples = 30769\\nvalue = [23407, 7362]\\nclass = 1'),\n",
              " Text(139.5, 339.75, 'capital-gain <= 3.043\\ngini = 0.495\\nsamples = 12490\\nvalue = [6893, 5597]\\nclass = 1'),\n",
              " Text(69.75, 203.85000000000002, 'education <= -0.976\\ngini = 0.48\\nsamples = 11482\\nvalue = [6885, 4597]\\nclass = 1'),\n",
              " Text(34.875, 67.94999999999999, 'gini = 0.191\\nsamples = 1414\\nvalue = [1263, 151]\\nclass = 1'),\n",
              " Text(104.625, 67.94999999999999, 'gini = 0.493\\nsamples = 10068\\nvalue = [5622, 4446]\\nclass = 1'),\n",
              " Text(209.25, 203.85000000000002, 'age <= 1.739\\ngini = 0.016\\nsamples = 1008\\nvalue = [8, 1000]\\nclass = 0'),\n",
              " Text(174.375, 67.94999999999999, 'gini = 0.002\\nsamples = 907\\nvalue = [1, 906]\\nclass = 0'),\n",
              " Text(244.125, 67.94999999999999, 'gini = 0.129\\nsamples = 101\\nvalue = [7, 94]\\nclass = 0'),\n",
              " Text(418.5, 339.75, 'capital-gain <= 3.631\\ngini = 0.174\\nsamples = 18279\\nvalue = [16514, 1765]\\nclass = 1'),\n",
              " Text(348.75, 203.85000000000002, 'relationship <= 1.909\\ngini = 0.141\\nsamples = 17865\\nvalue = [16502, 1363]\\nclass = 1'),\n",
              " Text(313.875, 67.94999999999999, 'gini = 0.091\\nsamples = 16515\\nvalue = [15730, 785]\\nclass = 1'),\n",
              " Text(383.625, 67.94999999999999, 'gini = 0.49\\nsamples = 1350\\nvalue = [772, 578]\\nclass = 1'),\n",
              " Text(488.25, 203.85000000000002, 'education <= -2.522\\ngini = 0.056\\nsamples = 414\\nvalue = [12, 402]\\nclass = 0'),\n",
              " Text(453.375, 67.94999999999999, 'gini = 0.0\\nsamples = 2\\nvalue = [2, 0]\\nclass = 1'),\n",
              " Text(523.125, 67.94999999999999, 'gini = 0.047\\nsamples = 412\\nvalue = [10, 402]\\nclass = 0')]"
            ]
          },
          "metadata": {
            "tags": []
          },
          "execution_count": 424
        },
        {
          "output_type": "display_data",
          "data": {
            "image/png": "[encoded data removed]",
            "text/plain": [
              "<Figure size 720x720 with 1 Axes>"
            ]
          },
          "metadata": {
            "tags": [],
            "needs_background": "light"
          }
        }
      ]
    },
    {
      "cell_type": "code",
      "metadata": {
        "id": "usUmFIpZqD2D"
      },
      "source": [
        "y_train_pred = cross_val_predict(DT_model, X_train, y_train, cv=3)"
      ],
      "execution_count": 425,
      "outputs": []
    },
    {
      "cell_type": "code",
      "metadata": {
        "colab": {
          "base_uri": "https://localhost:8080/",
          "height": 348
        },
        "id": "M0aM9yeHSQh2",
        "outputId": "721af7fc-c3a4-40b3-b2da-a48b28e47367"
      },
      "source": [
        "#Xem ma trận nhầm lẫn\n",
        "cm_matrix = pd.crosstab(y_train, y_train_pred, rownames=[\"Thực sự\"], colnames=[\"Dự đoán\"])\n",
        "sns.heatmap(cm_matrix, annot=True, fmt=\"d\")\n",
        "\n",
        "precision_score_DT = precision_score(y_train, y_train_pred)\n",
        "recall_score_DT = recall_score(y_train, y_train_pred)\n",
        "accuracy_score_DT = accuracy_score(y_train,y_train_pred)\n",
        "\n",
        "print(\"accuracy score:\", round(accuracy_score(y_train, y_train_pred), 4))\n",
        "print(\"precision score:\", round(precision_score(y_train, y_train_pred), 4))\n",
        "print(\"recall score:\", round(recall_score(y_train, y_train_pred), 4))\n",
        "print(\"f1 score:\", round(f1_score(y_train, y_train_pred), 4))"
      ],
      "execution_count": 426,
      "outputs": [
        {
          "output_type": "stream",
          "text": [
            "accuracy score: 0.8095\n",
            "precision score: 0.9652\n",
            "recall score: 0.2112\n",
            "f1 score: 0.3466\n"
          ],
          "name": "stdout"
        },
        {
          "output_type": "display_data",
          "data": {
            "image/png": "[encoded data removed]",
            "text/plain": [
              "<Figure size 432x288 with 2 Axes>"
            ]
          },
          "metadata": {
            "tags": [],
            "needs_background": "light"
          }
        }
      ]
    },
    {
      "cell_type": "code",
      "metadata": {
        "colab": {
          "base_uri": "https://localhost:8080/",
          "height": 374
        },
        "id": "O077_Wx6Kwi2",
        "outputId": "9924871b-db14-4ea0-e019-a92c63e3a907"
      },
      "source": [
        "#Chuẩn hóa ma trận\n",
        "CM_plot(confusion_matrix(y_train, y_train_pred))"
      ],
      "execution_count": 427,
      "outputs": [
        {
          "output_type": "display_data",
          "data": {
            "image/png": "[encoded data removed]",
            "text/plain": [
              "<Figure size 576x432 with 2 Axes>"
            ]
          },
          "metadata": {
            "tags": [],
            "needs_background": "light"
          }
        }
      ]
    },
    {
      "cell_type": "markdown",
      "metadata": {
        "id": "U1oaJPr-LIqH"
      },
      "source": [
        "***- Nhận xét chung mô hình Decision Tree:*** \n",
        "- Chúng em thử thay đổi một số tham số trên mô hình như: `max_dept`, `random_state` và nhận thấy ở một độ sâu nhất định thì mô hình sẽ đạt kết quả tốt nhất. Ví dụ: Ở độ sâu = 2, 3 thì độ đo `precision` = 98% nhưng nếu độ sâu tăng lên 4,5,.. thì `precision` sẽ giảm dần"
      ]
    },
    {
      "cell_type": "markdown",
      "metadata": {
        "id": "7R6nF_FeFMND"
      },
      "source": [
        "### Support Vector Machine"
      ]
    },
    {
      "cell_type": "markdown",
      "metadata": {
        "id": "Tec-53BvNKV-"
      },
      "source": [
        "1. Phân loại tuyến tính SVM"
      ]
    },
    {
      "cell_type": "code",
      "metadata": {
        "colab": {
          "base_uri": "https://localhost:8080/"
        },
        "id": "rQd5TCfyNJDd",
        "outputId": "537dd408-b50c-4ba6-fb21-c4b8574e86de"
      },
      "source": [
        "from sklearn.pipeline import Pipeline\n",
        "from sklearn.preprocessing import StandardScaler\n",
        "from sklearn.svm import LinearSVC\n",
        "start = time.time()\n",
        "SVM_Linear_model = Pipeline([\n",
        " (\"scaler\", StandardScaler()),\n",
        " (\"linear_svc\", LinearSVC(C=10, loss=\"hinge\", max_iter = 1000000)),\n",
        " ])\n",
        "SVM_Linear_model.fit(X_train, y_train)\n",
        "stop = time.time()\n",
        "SVM_time = {stop - start}\n",
        "print(f\"Training time: {SVM_time}s\")"
      ],
      "execution_count": 428,
      "outputs": [
        {
          "output_type": "stream",
          "text": [
            "Training time: {52.860705852508545}s\n"
          ],
          "name": "stdout"
        }
      ]
    },
    {
      "cell_type": "code",
      "metadata": {
        "id": "LSZN1l7YqSSa"
      },
      "source": [
        "y_train_pred = cross_val_predict(SVM_Linear_model, X_train, y_train, cv=3) "
      ],
      "execution_count": 429,
      "outputs": []
    },
    {
      "cell_type": "code",
      "metadata": {
        "id": "pAMlpTU0Nh7G",
        "colab": {
          "base_uri": "https://localhost:8080/",
          "height": 348
        },
        "outputId": "f3f9d821-e555-4c65-fc14-3a89ee54a86b"
      },
      "source": [
        "#Xem ma trận nhầm lẫn\n",
        "cm_matrix = pd.crosstab(y_train, y_train_pred, rownames=[\"Thực sự\"], colnames=[\"Dự đoán\"])\n",
        "sns.heatmap(cm_matrix, annot=True, fmt=\"d\")\n",
        "\n",
        "precision_score_SVM_Linear = precision_score(y_train, y_train_pred)\n",
        "recall_score_SVM_Linear = recall_score(y_train, y_train_pred)\n",
        "accuracy_score_SVM_Linear = accuracy_score(y_train,y_train_pred)\n",
        "\n",
        "print(\"accuracy score:\", round(accuracy_score(y_train, y_train_pred), 4))\n",
        "print(\"precision score:\", round(precision_score(y_train, y_train_pred), 4))\n",
        "print(\"recall score:\", round(recall_score(y_train, y_train_pred), 4))\n",
        "print(\"f1 score:\", round(f1_score(y_train, y_train_pred), 4))"
      ],
      "execution_count": 430,
      "outputs": [
        {
          "output_type": "stream",
          "text": [
            "accuracy score: 0.803\n",
            "precision score: 0.7039\n",
            "recall score: 0.3045\n",
            "f1 score: 0.4251\n"
          ],
          "name": "stdout"
        },
        {
          "output_type": "display_data",
          "data": {
            "image/png": "[encoded data removed]",
            "text/plain": [
              "<Figure size 432x288 with 2 Axes>"
            ]
          },
          "metadata": {
            "tags": [],
            "needs_background": "light"
          }
        }
      ]
    },
    {
      "cell_type": "markdown",
      "metadata": {
        "id": "jnOOJoT5qVp2"
      },
      "source": [
        "***- Nhận xét chung mô hình SVM:***\n",
        "- Mô hình chưa thực sự đạt kết quả tốt, độ đo recall quá thấp"
      ]
    },
    {
      "cell_type": "markdown",
      "metadata": {
        "id": "rd7BUSGNIhdL"
      },
      "source": [
        "###RandomForestClassifier"
      ]
    },
    {
      "cell_type": "code",
      "metadata": {
        "id": "iEKBwxdwIfz9",
        "colab": {
          "base_uri": "https://localhost:8080/"
        },
        "outputId": "9940a645-2997-43e9-fea3-25018a1f5444"
      },
      "source": [
        "start = time.time()\n",
        "RF_model=RandomForestClassifier(n_estimators=100)\n",
        "RF_model.fit(X_train, y_train)\n",
        "y_pred = RF_model.predict(X_test)\n",
        "stop = time.time()\n",
        "RF_time = {stop - start}\n",
        "print(f\"Training time: {RF_time} s\")"
      ],
      "execution_count": 431,
      "outputs": [
        {
          "output_type": "stream",
          "text": [
            "Training time: {3.675889492034912} s\n"
          ],
          "name": "stdout"
        }
      ]
    },
    {
      "cell_type": "code",
      "metadata": {
        "id": "neabPTKNqdOz"
      },
      "source": [
        "y_train_pred = cross_val_predict(RF_model, X_train, y_train, cv=3) "
      ],
      "execution_count": 432,
      "outputs": []
    },
    {
      "cell_type": "code",
      "metadata": {
        "id": "DhgIL_hLVi7L",
        "colab": {
          "base_uri": "https://localhost:8080/",
          "height": 348
        },
        "outputId": "bf9e9eb2-d86b-4562-a09d-200837aabed3"
      },
      "source": [
        "cm_matrix = pd.crosstab(y_train, y_train_pred, rownames=[\"Thực sự\"], colnames=[\"Dự đoán\"])\n",
        "sns.heatmap(cm_matrix, annot=True, fmt=\"d\")\n",
        "\n",
        "precision_score_RF = precision_score(y_train, y_train_pred)\n",
        "recall_score_RF = recall_score(y_train, y_train_pred)\n",
        "accuracy_score_RF = accuracy_score(y_train,y_train_pred)\n",
        "\n",
        "print(\"accuracy score:\", round(accuracy_score(y_train, y_train_pred), 4))\n",
        "print(\"precision score:\", round(precision_score(y_train, y_train_pred), 4))\n",
        "print(\"recall score:\", round(recall_score(y_train, y_train_pred), 4))\n",
        "print(\"f1 score:\", round(f1_score(y_train, y_train_pred), 4))"
      ],
      "execution_count": 433,
      "outputs": [
        {
          "output_type": "stream",
          "text": [
            "accuracy score: 0.8558\n",
            "precision score: 0.7417\n",
            "recall score: 0.6099\n",
            "f1 score: 0.6694\n"
          ],
          "name": "stdout"
        },
        {
          "output_type": "display_data",
          "data": {
            "image/png": "[encoded data removed]",
            "text/plain": [
              "<Figure size 432x288 with 2 Axes>"
            ]
          },
          "metadata": {
            "tags": [],
            "needs_background": "light"
          }
        }
      ]
    },
    {
      "cell_type": "code",
      "metadata": {
        "id": "od4gG6y7SKNs",
        "colab": {
          "base_uri": "https://localhost:8080/",
          "height": 374
        },
        "outputId": "27b87fed-f999-4bc2-9f83-8362c43862ed"
      },
      "source": [
        "#Chuẩn hóa ma trận\n",
        "CM_plot(confusion_matrix(y_test, y_pred))"
      ],
      "execution_count": 434,
      "outputs": [
        {
          "output_type": "display_data",
          "data": {
            "image/png": "[encoded data removed]",
            "text/plain": [
              "<Figure size 576x432 with 2 Axes>"
            ]
          },
          "metadata": {
            "tags": [],
            "needs_background": "light"
          }
        }
      ]
    },
    {
      "cell_type": "markdown",
      "metadata": {
        "id": "ItZ0LH5VTClJ"
      },
      "source": [
        "***- Nhận xét chung mô hình Random Forest Classifier:*** \n",
        "- Kết quả chưa được tối ưu"
      ]
    },
    {
      "cell_type": "markdown",
      "metadata": {
        "id": "naNJyAYZJgKg"
      },
      "source": [
        "####Model Report"
      ]
    },
    {
      "cell_type": "code",
      "metadata": {
        "id": "T0ecy7tuMvu3",
        "colab": {
          "base_uri": "https://localhost:8080/"
        },
        "outputId": "f0efe2f1-e932-4b30-8693-122c627dba64"
      },
      "source": [
        "print('Các độ đo thông số của các mô hình:')\n",
        "print('Support Vector Machine: \\n','precision:', precision_score_SVM_Linear, '\\n recall: ',recall_score_SVM_Linear)\n",
        "print('======================================================')\n",
        "print('LogisticRegression : \\n','precision:',precision_score_LR,'\\n recall:',recall_score_LR)\n",
        "print('======================================================')\n",
        "print('DecisionTreeClassifier : \\n','precision:',precision_score_DT,'\\n recall:',recall_score_DT)\n",
        "print('======================================================')\n",
        "print('RandomForestClassifier: \\n','precision:',precision_score_RF,'\\n recall:',recall_score_RF)"
      ],
      "execution_count": 435,
      "outputs": [
        {
          "output_type": "stream",
          "text": [
            "Các độ đo thông số của các mô hình:\n",
            "Support Vector Machine: \n",
            " precision: 0.7039246467817897 \n",
            " recall:  0.30453681064928007\n",
            "======================================================\n",
            "LogisticRegression : \n",
            " precision: 0.6887918486171761 \n",
            " recall: 0.32138005976636785\n",
            "======================================================\n",
            "DecisionTreeClassifier : \n",
            " precision: 0.9652389819987586 \n",
            " recall: 0.21121977723444715\n",
            "======================================================\n",
            "RandomForestClassifier: \n",
            " precision: 0.7416584076643541 \n",
            " recall: 0.6098886172235806\n"
          ],
          "name": "stdout"
        }
      ]
    },
    {
      "cell_type": "code",
      "metadata": {
        "id": "0eJLOzJjrxDx",
        "colab": {
          "base_uri": "https://localhost:8080/",
          "height": 281
        },
        "outputId": "7074c383-3a69-4b9c-8641-788dfbbcb7e1"
      },
      "source": [
        "#in biểu đồ\n",
        "BarGraph=['SVM','LR','DT','RF']\n",
        "accuracy=[accuracy_score_SVM_Linear,accuracy_score_LR,accuracy_score_DT,accuracy_score_RF]\n",
        "plt.bar(BarGraph,accuracy,color='green')\n",
        "plt.title('Bar Graph ACCURACY')\n",
        "plt.xlabel('')\n",
        "plt.ylabel('ACCURACY')\n",
        "plt.show()"
      ],
      "execution_count": 436,
      "outputs": [
        {
          "output_type": "display_data",
          "data": {
            "image/png": "[encoded data removed]",
            "text/plain": [
              "<Figure size 432x288 with 1 Axes>"
            ]
          },
          "metadata": {
            "tags": [],
            "needs_background": "light"
          }
        }
      ]
    },
    {
      "cell_type": "code",
      "metadata": {
        "colab": {
          "base_uri": "https://localhost:8080/"
        },
        "id": "-jd_zCpbvF1z",
        "outputId": "874b5a3d-b7f2-4196-9501-a446a25a41ce"
      },
      "source": [
        "print('Thời gian huấn luyện các mô hình:')\n",
        "print('Support Vector Machine: \\n','time:', SVM_time)\n",
        "print('======================================================')\n",
        "print('LogisticRegression : \\n','time:',LR_time)\n",
        "print('======================================================')\n",
        "print('DecisionTreeClassifier : \\n','time:',DT_time)\n",
        "print('======================================================')\n",
        "print('RandomForestClassifier: \\n','time:',RF_time)"
      ],
      "execution_count": 437,
      "outputs": [
        {
          "output_type": "stream",
          "text": [
            "Thời gian huấn luyện các mô hình:\n",
            "Support Vector Machine: \n",
            " time: {52.860705852508545}\n",
            "======================================================\n",
            "LogisticRegression : \n",
            " time: {0.06375622749328613}\n",
            "======================================================\n",
            "DecisionTreeClassifier : \n",
            " time: {0.07050824165344238}\n",
            "======================================================\n",
            "RandomForestClassifier: \n",
            " time: {3.675889492034912}\n"
          ],
          "name": "stdout"
        }
      ]
    },
    {
      "cell_type": "markdown",
      "metadata": {
        "id": "-OcKH-Nbw25M"
      },
      "source": [
        "***- Nhận xét***: \n",
        "- Đa số các mô hình đều có kết quả không tốt vì các tham số truyền vào chưa thực sự tốt. Do đó chúng ta cần tinh chỉnh các mô hình này để tìm được tham số tốt nhất cho các mô hình, nâng cao hiệu suất bài toán.\n",
        "- Mô hình thuật toán Random Forest cho kết quả độ chính xác `accuracy` cao nhất với 85.55%, trong khi đó thời gian huấn luyện cho mô hình Logistic Regression là thấp nhất với 0.063s.\n",
        "- Chúng tôi nhận thấy tại thời điểm hiện tại, mô hình thuật toán Random Forest đang là mô hình tốt nhất với độ chính xác `accuracy` là 85.55% và thời gian huấn luyện `time` là 3.67 s.\n"
      ]
    },
    {
      "cell_type": "markdown",
      "metadata": {
        "id": "KxwfeCq-frz8"
      },
      "source": [
        "# **V. Tinh chỉnh mô hình**"
      ]
    },
    {
      "cell_type": "markdown",
      "metadata": {
        "id": "a_-iW_dn7fLK"
      },
      "source": [
        "**Mục tiêu**\n",
        "- Cố gắng tối ưu hóa độ đo `precision` (tìm chính xác nhất có thể)\n",
        "- Mỗi mô hình máy học có những siêu tham số riêng (hyperparameter).\n",
        "- Cần phải thử nhiều bộ tham số để tìm ra bộ tham số tốt nhất\n"
      ]
    },
    {
      "cell_type": "markdown",
      "metadata": {
        "id": "ZruHaXr_gCzM"
      },
      "source": [
        "## **Với GridSearch**"
      ]
    },
    {
      "cell_type": "code",
      "metadata": {
        "id": "Hr29kf067ljW"
      },
      "source": [
        "import time\n",
        "from sklearn.model_selection import GridSearchCV"
      ],
      "execution_count": 438,
      "outputs": []
    },
    {
      "cell_type": "markdown",
      "metadata": {
        "id": "gAZW_mQ97uAf"
      },
      "source": [
        "### LogisticRegression"
      ]
    },
    {
      "cell_type": "code",
      "metadata": {
        "id": "rlGQQDQF7xBG",
        "colab": {
          "base_uri": "https://localhost:8080/"
        },
        "outputId": "7a6530e0-b5b6-44a8-ca5a-c697e5a80cdf"
      },
      "source": [
        "param_grid={\"C\":np.logspace(-3,3,7),  \n",
        "      \"solver\":['newton-cg', 'lbfgs', 'liblinear', 'sag', 'saga'],\n",
        "      'penalty': ['l1', 'l2']}\n",
        "split = KFold(n_splits=4, shuffle=True, random_state=42)\n",
        "LR = LogisticRegression(random_state=42)\n",
        "grid_search_LR = GridSearchCV(LR, param_grid, cv=split,\n",
        "                           scoring='precision',\n",
        "                           return_train_score=True)\n",
        "grid_search_LR.fit(X_train, y_train)"
      ],
      "execution_count": 439,
      "outputs": [
        {
          "output_type": "stream",
          "text": [
            "/usr/local/lib/python3.6/dist-packages/sklearn/model_selection/_validation.py:536: FitFailedWarning: Estimator fit failed. The score on this train-test partition for these parameters will be set to nan. Details: \n",
            "ValueError: Solver newton-cg supports only 'l2' or 'none' penalties, got l1 penalty.\n",
            "\n",
            "  FitFailedWarning)\n",
            "/usr/local/lib/python3.6/dist-packages/sklearn/model_selection/_validation.py:536: FitFailedWarning: Estimator fit failed. The score on this train-test partition for these parameters will be set to nan. Details: \n",
            "ValueError: Solver lbfgs supports only 'l2' or 'none' penalties, got l1 penalty.\n",
            "\n",
            "  FitFailedWarning)\n",
            "/usr/local/lib/python3.6/dist-packages/sklearn/model_selection/_validation.py:536: FitFailedWarning: Estimator fit failed. The score on this train-test partition for these parameters will be set to nan. Details: \n",
            "ValueError: Solver sag supports only 'l2' or 'none' penalties, got l1 penalty.\n",
            "\n",
            "  FitFailedWarning)\n",
            "/usr/local/lib/python3.6/dist-packages/sklearn/model_selection/_validation.py:536: FitFailedWarning: Estimator fit failed. The score on this train-test partition for these parameters will be set to nan. Details: \n",
            "ValueError: Solver newton-cg supports only 'l2' or 'none' penalties, got l1 penalty.\n",
            "\n",
            "  FitFailedWarning)\n",
            "/usr/local/lib/python3.6/dist-packages/sklearn/model_selection/_validation.py:536: FitFailedWarning: Estimator fit failed. The score on this train-test partition for these parameters will be set to nan. Details: \n",
            "ValueError: Solver lbfgs supports only 'l2' or 'none' penalties, got l1 penalty.\n",
            "\n",
            "  FitFailedWarning)\n",
            "/usr/local/lib/python3.6/dist-packages/sklearn/model_selection/_validation.py:536: FitFailedWarning: Estimator fit failed. The score on this train-test partition for these parameters will be set to nan. Details: \n",
            "ValueError: Solver sag supports only 'l2' or 'none' penalties, got l1 penalty.\n",
            "\n",
            "  FitFailedWarning)\n",
            "/usr/local/lib/python3.6/dist-packages/sklearn/model_selection/_validation.py:536: FitFailedWarning: Estimator fit failed. The score on this train-test partition for these parameters will be set to nan. Details: \n",
            "ValueError: Solver newton-cg supports only 'l2' or 'none' penalties, got l1 penalty.\n",
            "\n",
            "  FitFailedWarning)\n",
            "/usr/local/lib/python3.6/dist-packages/sklearn/model_selection/_validation.py:536: FitFailedWarning: Estimator fit failed. The score on this train-test partition for these parameters will be set to nan. Details: \n",
            "ValueError: Solver lbfgs supports only 'l2' or 'none' penalties, got l1 penalty.\n",
            "\n",
            "  FitFailedWarning)\n",
            "/usr/local/lib/python3.6/dist-packages/sklearn/model_selection/_validation.py:536: FitFailedWarning: Estimator fit failed. The score on this train-test partition for these parameters will be set to nan. Details: \n",
            "ValueError: Solver sag supports only 'l2' or 'none' penalties, got l1 penalty.\n",
            "\n",
            "  FitFailedWarning)\n",
            "/usr/local/lib/python3.6/dist-packages/sklearn/model_selection/_validation.py:536: FitFailedWarning: Estimator fit failed. The score on this train-test partition for these parameters will be set to nan. Details: \n",
            "ValueError: Solver newton-cg supports only 'l2' or 'none' penalties, got l1 penalty.\n",
            "\n",
            "  FitFailedWarning)\n",
            "/usr/local/lib/python3.6/dist-packages/sklearn/model_selection/_validation.py:536: FitFailedWarning: Estimator fit failed. The score on this train-test partition for these parameters will be set to nan. Details: \n",
            "ValueError: Solver lbfgs supports only 'l2' or 'none' penalties, got l1 penalty.\n",
            "\n",
            "  FitFailedWarning)\n",
            "/usr/local/lib/python3.6/dist-packages/sklearn/model_selection/_validation.py:536: FitFailedWarning: Estimator fit failed. The score on this train-test partition for these parameters will be set to nan. Details: \n",
            "ValueError: Solver sag supports only 'l2' or 'none' penalties, got l1 penalty.\n",
            "\n",
            "  FitFailedWarning)\n",
            "/usr/local/lib/python3.6/dist-packages/sklearn/model_selection/_validation.py:536: FitFailedWarning: Estimator fit failed. The score on this train-test partition for these parameters will be set to nan. Details: \n",
            "ValueError: Solver newton-cg supports only 'l2' or 'none' penalties, got l1 penalty.\n",
            "\n",
            "  FitFailedWarning)\n",
            "/usr/local/lib/python3.6/dist-packages/sklearn/model_selection/_validation.py:536: FitFailedWarning: Estimator fit failed. The score on this train-test partition for these parameters will be set to nan. Details: \n",
            "ValueError: Solver lbfgs supports only 'l2' or 'none' penalties, got l1 penalty.\n",
            "\n",
            "  FitFailedWarning)\n",
            "/usr/local/lib/python3.6/dist-packages/sklearn/model_selection/_validation.py:536: FitFailedWarning: Estimator fit failed. The score on this train-test partition for these parameters will be set to nan. Details: \n",
            "ValueError: Solver sag supports only 'l2' or 'none' penalties, got l1 penalty.\n",
            "\n",
            "  FitFailedWarning)\n",
            "/usr/local/lib/python3.6/dist-packages/sklearn/model_selection/_validation.py:536: FitFailedWarning: Estimator fit failed. The score on this train-test partition for these parameters will be set to nan. Details: \n",
            "ValueError: Solver newton-cg supports only 'l2' or 'none' penalties, got l1 penalty.\n",
            "\n",
            "  FitFailedWarning)\n",
            "/usr/local/lib/python3.6/dist-packages/sklearn/model_selection/_validation.py:536: FitFailedWarning: Estimator fit failed. The score on this train-test partition for these parameters will be set to nan. Details: \n",
            "ValueError: Solver lbfgs supports only 'l2' or 'none' penalties, got l1 penalty.\n",
            "\n",
            "  FitFailedWarning)\n",
            "/usr/local/lib/python3.6/dist-packages/sklearn/model_selection/_validation.py:536: FitFailedWarning: Estimator fit failed. The score on this train-test partition for these parameters will be set to nan. Details: \n",
            "ValueError: Solver sag supports only 'l2' or 'none' penalties, got l1 penalty.\n",
            "\n",
            "  FitFailedWarning)\n",
            "/usr/local/lib/python3.6/dist-packages/sklearn/model_selection/_validation.py:536: FitFailedWarning: Estimator fit failed. The score on this train-test partition for these parameters will be set to nan. Details: \n",
            "ValueError: Solver newton-cg supports only 'l2' or 'none' penalties, got l1 penalty.\n",
            "\n",
            "  FitFailedWarning)\n",
            "/usr/local/lib/python3.6/dist-packages/sklearn/model_selection/_validation.py:536: FitFailedWarning: Estimator fit failed. The score on this train-test partition for these parameters will be set to nan. Details: \n",
            "ValueError: Solver lbfgs supports only 'l2' or 'none' penalties, got l1 penalty.\n",
            "\n",
            "  FitFailedWarning)\n",
            "/usr/local/lib/python3.6/dist-packages/sklearn/model_selection/_validation.py:536: FitFailedWarning: Estimator fit failed. The score on this train-test partition for these parameters will be set to nan. Details: \n",
            "ValueError: Solver sag supports only 'l2' or 'none' penalties, got l1 penalty.\n",
            "\n",
            "  FitFailedWarning)\n"
          ],
          "name": "stderr"
        },
        {
          "output_type": "execute_result",
          "data": {
            "text/plain": [
              "GridSearchCV(cv=KFold(n_splits=4, random_state=42, shuffle=True),\n",
              "             error_score=nan,\n",
              "             estimator=LogisticRegression(C=1.0, class_weight=None, dual=False,\n",
              "                                          fit_intercept=True,\n",
              "                                          intercept_scaling=1, l1_ratio=None,\n",
              "                                          max_iter=100, multi_class='auto',\n",
              "                                          n_jobs=None, penalty='l2',\n",
              "                                          random_state=42, solver='lbfgs',\n",
              "                                          tol=0.0001, verbose=0,\n",
              "                                          warm_start=False),\n",
              "             iid='deprecated', n_jobs=None,\n",
              "             param_grid={'C': array([1.e-03, 1.e-02, 1.e-01, 1.e+00, 1.e+01, 1.e+02, 1.e+03]),\n",
              "                         'penalty': ['l1', 'l2'],\n",
              "                         'solver': ['newton-cg', 'lbfgs', 'liblinear', 'sag',\n",
              "                                    'saga']},\n",
              "             pre_dispatch='2*n_jobs', refit=True, return_train_score=True,\n",
              "             scoring='precision', verbose=0)"
            ]
          },
          "metadata": {
            "tags": []
          },
          "execution_count": 439
        }
      ]
    },
    {
      "cell_type": "code",
      "metadata": {
        "id": "5Ce__uNI72h0",
        "colab": {
          "base_uri": "https://localhost:8080/"
        },
        "outputId": "13c0df62-9858-4695-ed22-1735af7eaa2e"
      },
      "source": [
        "print(\"best score:\", grid_search_LR.best_score_)\n",
        "#print(\"recall score:\", grid_search_LR.best_score_)\n",
        "print(\"best params:\", grid_search_LR.best_params_)"
      ],
      "execution_count": 440,
      "outputs": [
        {
          "output_type": "stream",
          "text": [
            "best score: 0.8376143766382271\n",
            "best params: {'C': 0.001, 'penalty': 'l1', 'solver': 'saga'}\n"
          ],
          "name": "stdout"
        }
      ]
    },
    {
      "cell_type": "code",
      "metadata": {
        "id": "vhmmT63e74Uj",
        "colab": {
          "base_uri": "https://localhost:8080/"
        },
        "outputId": "09b12090-0da7-46f5-d2d0-084947c2e41b"
      },
      "source": [
        "y_pred_acc = grid_search_LR.predict(X_train)\n",
        "accuracy_score(y_train,y_pred_acc)\n",
        "# New Model Evaluation metrics \n",
        "print('Accuracy Score : ' + str(accuracy_score(y_train,y_pred_acc)))\n",
        "print('Precision Score : ' + str(precision_score(y_train,y_pred_acc)))\n",
        "print('Recall Score : ' + str(recall_score(y_train,y_pred_acc)))\n",
        "print('F1 Score : ' + str(f1_score(y_train,y_pred_acc)))\n",
        "\n",
        "#Logistic Regression (Grid Search) Confusion matrix\n",
        "confusion_matrix(y_train,y_pred_acc)"
      ],
      "execution_count": 441,
      "outputs": [
        {
          "output_type": "stream",
          "text": [
            "Accuracy Score : 0.7997009977574832\n",
            "Precision Score : 0.7917274939172749\n",
            "Recall Score : 0.22099972833469167\n",
            "F1 Score : 0.3455452904321971\n"
          ],
          "name": "stdout"
        },
        {
          "output_type": "execute_result",
          "data": {
            "text/plain": [
              "array([[22979,   428],\n",
              "       [ 5735,  1627]])"
            ]
          },
          "metadata": {
            "tags": []
          },
          "execution_count": 441
        }
      ]
    },
    {
      "cell_type": "code",
      "metadata": {
        "id": "7s8ySDce76Dv",
        "colab": {
          "base_uri": "https://localhost:8080/"
        },
        "outputId": "a6b2b289-92ad-414a-a2fb-4bf5a63fc4ea"
      },
      "source": [
        "start = time.time()\n",
        "LR_grid_model = LogisticRegression(C =0.001,solver='saga')\n",
        "LR_grid_model.fit(X_train, y_train)\n",
        "#y_train_pred = cross_val_predict(LR_model, X, y, cv=3)\n",
        "y_train_pred = LR_grid_model.predict(X_train)\n",
        "stop = time.time()\n",
        "LR_Grid_time = {stop - start}\n",
        "print(f\"Training time: {LR_Grid_time} s\")"
      ],
      "execution_count": 442,
      "outputs": [
        {
          "output_type": "stream",
          "text": [
            "Training time: {0.15232276916503906} s\n"
          ],
          "name": "stdout"
        }
      ]
    },
    {
      "cell_type": "code",
      "metadata": {
        "id": "OcjpB9NS79Tg",
        "colab": {
          "base_uri": "https://localhost:8080/",
          "height": 442
        },
        "outputId": "b238c0f2-c9ae-462a-9923-dbe1c7b67d40"
      },
      "source": [
        "CM_plot(confusion_matrix(y_train, y_train_pred))\n",
        "accuracy_score_LR_Grid = accuracy_score(y_train, y_train_pred)\n",
        "print(\"accuracy score:\", accuracy_score_LR_Grid)\n",
        "print(\"precision score:\", round(precision_score(y_train, y_train_pred), 4))\n",
        "print(\"recall score:\", round(recall_score(y_train, y_train_pred), 4))\n",
        "print(\"f1 score:\", round(f1_score(y_train, y_train_pred), 4))"
      ],
      "execution_count": 443,
      "outputs": [
        {
          "output_type": "stream",
          "text": [
            "accuracy score: 0.8044460333452501\n",
            "precision score: 0.7302\n",
            "recall score: 0.2897\n",
            "f1 score: 0.4149\n"
          ],
          "name": "stdout"
        },
        {
          "output_type": "display_data",
          "data": {
            "image/png": "[encoded data removed]",
            "text/plain": [
              "<Figure size 576x432 with 2 Axes>"
            ]
          },
          "metadata": {
            "tags": [],
            "needs_background": "light"
          }
        }
      ]
    },
    {
      "cell_type": "markdown",
      "metadata": {
        "id": "qpPF5mQP8A2p"
      },
      "source": [
        "### SupportVectorMachine"
      ]
    },
    {
      "cell_type": "code",
      "metadata": {
        "id": "gFGK5lkf8CkW",
        "colab": {
          "base_uri": "https://localhost:8080/"
        },
        "outputId": "fd676666-6642-487d-84e5-7096e06ffcc3"
      },
      "source": [
        "param_grid = {\n",
        "    'gamma':[1e-2, 1e-3], \n",
        "    'C': [1e2, 1e3],\n",
        "    }\n",
        "split = KFold(n_splits=4, shuffle=True, random_state=42)\n",
        "SVM = SVC(random_state=42)\n",
        "grid_search_SVM = GridSearchCV(SVM, param_grid, cv=split,\n",
        "                           scoring='precision',\n",
        "                           return_train_score=True)\n",
        "grid_search_SVM.fit(X_train, y_train)"
      ],
      "execution_count": 444,
      "outputs": [
        {
          "output_type": "execute_result",
          "data": {
            "text/plain": [
              "GridSearchCV(cv=KFold(n_splits=4, random_state=42, shuffle=True),\n",
              "             error_score=nan,\n",
              "             estimator=SVC(C=1.0, break_ties=False, cache_size=200,\n",
              "                           class_weight=None, coef0=0.0,\n",
              "                           decision_function_shape='ovr', degree=3,\n",
              "                           gamma='scale', kernel='rbf', max_iter=-1,\n",
              "                           probability=False, random_state=42, shrinking=True,\n",
              "                           tol=0.001, verbose=False),\n",
              "             iid='deprecated', n_jobs=None,\n",
              "             param_grid={'C': [100.0, 1000.0], 'gamma': [0.01, 0.001]},\n",
              "             pre_dispatch='2*n_jobs', refit=True, return_train_score=True,\n",
              "             scoring='precision', verbose=0)"
            ]
          },
          "metadata": {
            "tags": []
          },
          "execution_count": 444
        }
      ]
    },
    {
      "cell_type": "code",
      "metadata": {
        "id": "IldDYxlX8KK_",
        "colab": {
          "base_uri": "https://localhost:8080/"
        },
        "outputId": "eb56d709-665f-4dca-8560-51b4a45febad"
      },
      "source": [
        "print(\"best score:\", grid_search_SVM.best_score_)\n",
        "#print(\"recall score:\", grid_search_SVM.best_score_)\n",
        "print(\"best params:\", grid_search_SVM.best_params_)"
      ],
      "execution_count": 445,
      "outputs": [
        {
          "output_type": "stream",
          "text": [
            "best score: 0.8563388409960738\n",
            "best params: {'C': 1000.0, 'gamma': 0.001}\n"
          ],
          "name": "stdout"
        }
      ]
    },
    {
      "cell_type": "code",
      "metadata": {
        "colab": {
          "base_uri": "https://localhost:8080/"
        },
        "id": "PYLQyIGa6s5Y",
        "outputId": "ebe4755e-d058-476a-c13b-6df24c063f85"
      },
      "source": [
        "y_pred_acc = grid_search_SVM.predict(X_train)\n",
        "y1=accuracy_score(y_train,y_pred_acc)\n",
        "# New Model Evaluation metrics \n",
        "print('Accuracy Score : ' + str(accuracy_score(y_train,y_pred_acc)))\n",
        "print('Precision Score : ' + str(precision_score(y_train,y_pred_acc)))\n",
        "print('Recall Score : ' + str(recall_score(y_train,y_pred_acc)))\n",
        "print('F1 Score : ' + str(f1_score(y_train,y_pred_acc)))\n",
        "\n",
        "#Logistic Regression (Grid Search) Confusion matrix\n",
        "confusion_matrix(y_train,y_pred_acc)"
      ],
      "execution_count": 446,
      "outputs": [
        {
          "output_type": "stream",
          "text": [
            "Accuracy Score : 0.8153986154896161\n",
            "Precision Score : 0.8609442060085837\n",
            "Recall Score : 0.27248030426514536\n",
            "F1 Score : 0.41394964919521254\n"
          ],
          "name": "stdout"
        },
        {
          "output_type": "execute_result",
          "data": {
            "text/plain": [
              "array([[23083,   324],\n",
              "       [ 5356,  2006]])"
            ]
          },
          "metadata": {
            "tags": []
          },
          "execution_count": 446
        }
      ]
    },
    {
      "cell_type": "code",
      "metadata": {
        "colab": {
          "base_uri": "https://localhost:8080/"
        },
        "id": "tr2LqjGbDFHQ",
        "outputId": "0c77cbc3-b2a5-4ef3-a40e-7c28b921f59b"
      },
      "source": [
        "start = time.time()\n",
        "SVM_grid_model = SVC(C= 1000.0, gamma= 0.001)\n",
        "SVM_grid_model.fit(X_train, y_train)\n",
        "\n",
        "y_train_pred = SVM_grid_model.predict(X_train)\n",
        "stop = time.time()\n",
        "SVM_Grid_time = {stop - start}\n",
        "print(f\"Training time: {SVM_Grid_time} s\")"
      ],
      "execution_count": 447,
      "outputs": [
        {
          "output_type": "stream",
          "text": [
            "Training time: {58.418415546417236} s\n"
          ],
          "name": "stdout"
        }
      ]
    },
    {
      "cell_type": "code",
      "metadata": {
        "colab": {
          "base_uri": "https://localhost:8080/",
          "height": 442
        },
        "id": "NzfrG6eUDLYU",
        "outputId": "6112f6ca-935b-4174-ffd1-7de2715619a1"
      },
      "source": [
        "CM_plot(confusion_matrix(y_train, y_train_pred))\n",
        "accuracy_score_SVM_Grid = accuracy_score(y_train, y_train_pred)\n",
        "print(\"accuracy score:\", accuracy_score_SVM_Grid)\n",
        "print(\"precision score:\", round(precision_score(y_train, y_train_pred), 4))\n",
        "print(\"recall score:\", round(recall_score(y_train, y_train_pred), 4))\n",
        "print(\"f1 score:\", round(f1_score(y_train, y_train_pred), 4))"
      ],
      "execution_count": 448,
      "outputs": [
        {
          "output_type": "stream",
          "text": [
            "accuracy score: 0.8153986154896161\n",
            "precision score: 0.8609\n",
            "recall score: 0.2725\n",
            "f1 score: 0.4139\n"
          ],
          "name": "stdout"
        },
        {
          "output_type": "display_data",
          "data": {
            "image/png": "[encoded data removed]",
            "text/plain": [
              "<Figure size 576x432 with 2 Axes>"
            ]
          },
          "metadata": {
            "tags": [],
            "needs_background": "light"
          }
        }
      ]
    },
    {
      "cell_type": "markdown",
      "metadata": {
        "id": "ltfAb0918OVG"
      },
      "source": [
        "### DecisionTreeClassifier"
      ]
    },
    {
      "cell_type": "code",
      "metadata": {
        "id": "1jOg3hec8Qub",
        "colab": {
          "base_uri": "https://localhost:8080/"
        },
        "outputId": "c2505d78-292c-4494-e7c1-b79a8a11f6de"
      },
      "source": [
        "from sklearn.model_selection import GridSearchCV\n",
        "param_grid = {\n",
        "    'criterion':['gini','entropy'],\n",
        "    'max_depth':[3,4,5,6,11,15,20],\n",
        "    'max_features': ['auto', 'sqrt','log2'],\n",
        "    'min_samples_leaf' : [1,2,3,8],\n",
        "    }\n",
        "\n",
        "split = KFold(n_splits=4, shuffle=True, random_state=42)\n",
        "DTC_model = DecisionTreeClassifier(random_state=42)\n",
        "grid_search_DTC = GridSearchCV( DTC_model, param_grid, cv=split,\n",
        "                           scoring='precision',\n",
        "                           return_train_score=True)\n",
        "grid_search_DTC.fit(X_train, y_train)"
      ],
      "execution_count": 449,
      "outputs": [
        {
          "output_type": "execute_result",
          "data": {
            "text/plain": [
              "GridSearchCV(cv=KFold(n_splits=4, random_state=42, shuffle=True),\n",
              "             error_score=nan,\n",
              "             estimator=DecisionTreeClassifier(ccp_alpha=0.0, class_weight=None,\n",
              "                                              criterion='gini', max_depth=None,\n",
              "                                              max_features=None,\n",
              "                                              max_leaf_nodes=None,\n",
              "                                              min_impurity_decrease=0.0,\n",
              "                                              min_impurity_split=None,\n",
              "                                              min_samples_leaf=1,\n",
              "                                              min_samples_split=2,\n",
              "                                              min_weight_fraction_leaf=0.0,\n",
              "                                              presort='deprecated',\n",
              "                                              random_state=42,\n",
              "                                              splitter='best'),\n",
              "             iid='deprecated', n_jobs=None,\n",
              "             param_grid={'criterion': ['gini', 'entropy'],\n",
              "                         'max_depth': [3, 4, 5, 6, 11, 15, 20],\n",
              "                         'max_features': ['auto', 'sqrt', 'log2'],\n",
              "                         'min_samples_leaf': [1, 2, 3, 8]},\n",
              "             pre_dispatch='2*n_jobs', refit=True, return_train_score=True,\n",
              "             scoring='precision', verbose=0)"
            ]
          },
          "metadata": {
            "tags": []
          },
          "execution_count": 449
        }
      ]
    },
    {
      "cell_type": "code",
      "metadata": {
        "id": "yQGDirCM8S81",
        "colab": {
          "base_uri": "https://localhost:8080/"
        },
        "outputId": "a0fef240-6f06-496e-b8b9-1c1c1964a3c6"
      },
      "source": [
        "print(\"best score:\", grid_search_DTC.best_score_)\n",
        "#print(\"recall score:\", grid_search_SVM.best_score_)\n",
        "print(\"best params:\", grid_search_DTC.best_params_)"
      ],
      "execution_count": 450,
      "outputs": [
        {
          "output_type": "stream",
          "text": [
            "best score: 0.9900880308438983\n",
            "best params: {'criterion': 'entropy', 'max_depth': 4, 'max_features': 'auto', 'min_samples_leaf': 2}\n"
          ],
          "name": "stdout"
        }
      ]
    },
    {
      "cell_type": "code",
      "metadata": {
        "id": "MH_OmaIk8Uxi",
        "colab": {
          "base_uri": "https://localhost:8080/"
        },
        "outputId": "ae81e0cc-bc70-436c-f2ef-2b92acb764ca"
      },
      "source": [
        "y_pred_acc = grid_search_DTC.predict(X_train)\n",
        "accuracy_score(y_train,y_pred_acc)\n",
        "\n",
        "# New Model Evaluation metrics \n",
        "print('Accuracy Score : ' + str(accuracy_score(y_train,y_pred_acc)))\n",
        "print('Precision Score : ' + str(precision_score(y_train,y_pred_acc)))\n",
        "print('Recall Score : ' + str(recall_score(y_train,y_pred_acc)))\n",
        "print('F1 Score : ' + str(f1_score(y_train,y_pred_acc)))\n",
        "\n",
        "#Decision Tree Classifier (Grid Search) Confusion matrix\n",
        "confusion_matrix(y_train,y_pred_acc)"
      ],
      "execution_count": 451,
      "outputs": [
        {
          "output_type": "stream",
          "text": [
            "Accuracy Score : 0.8009360070200526\n",
            "Precision Score : 0.9889328063241106\n",
            "Recall Score : 0.16992665036674817\n",
            "F1 Score : 0.29001970557551876\n"
          ],
          "name": "stdout"
        },
        {
          "output_type": "execute_result",
          "data": {
            "text/plain": [
              "array([[23393,    14],\n",
              "       [ 6111,  1251]])"
            ]
          },
          "metadata": {
            "tags": []
          },
          "execution_count": 451
        }
      ]
    },
    {
      "cell_type": "code",
      "metadata": {
        "colab": {
          "base_uri": "https://localhost:8080/"
        },
        "id": "Mtj1V4lJ-MGo",
        "outputId": "08214ae6-bcc0-41ab-ecdf-ae9e831a60a5"
      },
      "source": [
        "start = time.time()\n",
        "DT_grid_model = DecisionTreeClassifier(criterion='entropy', max_depth= 4, max_features= 'auto', min_samples_leaf= 2)\n",
        "DT_grid_model.fit(X_train, y_train)\n",
        "\n",
        "y_train_pred = DT_grid_model.predict(X_train)\n",
        "stop = time.time()\n",
        "DT_Grid_time = {stop - start}\n",
        "print(f\"Training time: {DT_Grid_time} s\")"
      ],
      "execution_count": 452,
      "outputs": [
        {
          "output_type": "stream",
          "text": [
            "Training time: {0.02375650405883789} s\n"
          ],
          "name": "stdout"
        }
      ]
    },
    {
      "cell_type": "code",
      "metadata": {
        "colab": {
          "base_uri": "https://localhost:8080/",
          "height": 442
        },
        "id": "hbePKoHT-6uF",
        "outputId": "7331a607-dd44-4901-c8f8-ee72fc804825"
      },
      "source": [
        "CM_plot(confusion_matrix(y_train, y_train_pred))\n",
        "accuracy_score_DT_Grid = accuracy_score(y_train, y_train_pred)\n",
        "print(\"accuracy score:\", accuracy_score_DT_Grid)\n",
        "print(\"precision score:\", round(precision_score(y_train, y_train_pred), 4))\n",
        "print(\"recall score:\", round(recall_score(y_train, y_train_pred), 4))\n",
        "print(\"f1 score:\", round(f1_score(y_train, y_train_pred), 4))"
      ],
      "execution_count": 453,
      "outputs": [
        {
          "output_type": "stream",
          "text": [
            "accuracy score: 0.8015860118950893\n",
            "precision score: 0.8839\n",
            "recall score: 0.1965\n",
            "f1 score: 0.3216\n"
          ],
          "name": "stdout"
        },
        {
          "output_type": "display_data",
          "data": {
            "image/png": "[encoded data removed]",
            "text/plain": [
              "<Figure size 576x432 with 2 Axes>"
            ]
          },
          "metadata": {
            "tags": [],
            "needs_background": "light"
          }
        }
      ]
    },
    {
      "cell_type": "markdown",
      "metadata": {
        "id": "9aZGoJ8H8XGd"
      },
      "source": [
        "### RandomForestClassifier"
      ]
    },
    {
      "cell_type": "code",
      "metadata": {
        "id": "5UernapP8ZZf",
        "colab": {
          "base_uri": "https://localhost:8080/"
        },
        "outputId": "0a61c2b5-533c-496c-8342-34fd3a9a3249"
      },
      "source": [
        "param_grid = {\n",
        "    'criterion':['gini', 'entropy'],\n",
        "    'n_estimators': [50, 100, 150],\n",
        "    'max_features': ['auto', None],\n",
        "    'bootstrap': [True, False],\n",
        "    'n_jobs': [-1]\n",
        "    }\n",
        "split = KFold(n_splits=4, shuffle=True, random_state=42)\n",
        "forest_clf = RandomForestClassifier(random_state=42)\n",
        "grid_search_RFC = GridSearchCV(forest_clf, param_grid, cv=split,\n",
        "                           scoring='precision',\n",
        "                           return_train_score=True)\n",
        "grid_search_RFC.fit(X_train, y_train)"
      ],
      "execution_count": 454,
      "outputs": [
        {
          "output_type": "execute_result",
          "data": {
            "text/plain": [
              "GridSearchCV(cv=KFold(n_splits=4, random_state=42, shuffle=True),\n",
              "             error_score=nan,\n",
              "             estimator=RandomForestClassifier(bootstrap=True, ccp_alpha=0.0,\n",
              "                                              class_weight=None,\n",
              "                                              criterion='gini', max_depth=None,\n",
              "                                              max_features='auto',\n",
              "                                              max_leaf_nodes=None,\n",
              "                                              max_samples=None,\n",
              "                                              min_impurity_decrease=0.0,\n",
              "                                              min_impurity_split=None,\n",
              "                                              min_samples_leaf=1,\n",
              "                                              min_samples_split=2,\n",
              "                                              min_weight_fr....0,\n",
              "                                              n_estimators=100, n_jobs=None,\n",
              "                                              oob_score=False, random_state=42,\n",
              "                                              verbose=0, warm_start=False),\n",
              "             iid='deprecated', n_jobs=None,\n",
              "             param_grid={'bootstrap': [True, False],\n",
              "                         'criterion': ['gini', 'entropy'],\n",
              "                         'max_features': ['auto', None],\n",
              "                         'n_estimators': [50, 100, 150], 'n_jobs': [-1]},\n",
              "             pre_dispatch='2*n_jobs', refit=True, return_train_score=True,\n",
              "             scoring='precision', verbose=0)"
            ]
          },
          "metadata": {
            "tags": []
          },
          "execution_count": 454
        }
      ]
    },
    {
      "cell_type": "code",
      "metadata": {
        "id": "qPirwV7N8bnl",
        "colab": {
          "base_uri": "https://localhost:8080/"
        },
        "outputId": "713452d8-1793-4683-aeec-3bb11269c33a"
      },
      "source": [
        "print(\"best score:\", grid_search_RFC.best_score_)\n",
        "#print(\"recall score:\", grid_search_SVM.best_score_)\n",
        "print(\"best params:\", grid_search_RFC.best_params_)"
      ],
      "execution_count": 455,
      "outputs": [
        {
          "output_type": "stream",
          "text": [
            "best score: 0.7470965235311067\n",
            "best params: {'bootstrap': True, 'criterion': 'gini', 'max_features': 'auto', 'n_estimators': 50, 'n_jobs': -1}\n"
          ],
          "name": "stdout"
        }
      ]
    },
    {
      "cell_type": "code",
      "metadata": {
        "id": "7hHwMY338dl3",
        "colab": {
          "base_uri": "https://localhost:8080/"
        },
        "outputId": "384b483f-13c7-45b1-82cc-5b8039ea90d0"
      },
      "source": [
        "y_pred_acc = grid_search_RFC.predict(X_train)\n",
        "accuracy_score(y_train,y_pred_acc)\n",
        "\n",
        "# New Model Evaluation metrics \n",
        "print('Accuracy Score : ' + str(accuracy_score(y_train,y_pred_acc)))\n",
        "print('Precision Score : ' + str(precision_score(y_train,y_pred_acc)))\n",
        "print('Recall Score : ' + str(recall_score(y_train,y_pred_acc)))\n",
        "print('F1 Score : ' + str(f1_score(y_train,y_pred_acc)))\n",
        "\n",
        "#Random Forest Classifier (Grid Search) Confusion matrix\n",
        "confusion_matrix(y_train,y_pred_acc)"
      ],
      "execution_count": 456,
      "outputs": [
        {
          "output_type": "stream",
          "text": [
            "Accuracy Score : 0.9995449965874744\n",
            "Precision Score : 0.9994562262098967\n",
            "Recall Score : 0.9986416734582994\n",
            "F1 Score : 0.9990487838021471\n"
          ],
          "name": "stdout"
        },
        {
          "output_type": "execute_result",
          "data": {
            "text/plain": [
              "array([[23403,     4],\n",
              "       [   10,  7352]])"
            ]
          },
          "metadata": {
            "tags": []
          },
          "execution_count": 456
        }
      ]
    },
    {
      "cell_type": "code",
      "metadata": {
        "colab": {
          "base_uri": "https://localhost:8080/"
        },
        "id": "DWK-PhS3_cO4",
        "outputId": "1c2b4949-fedd-4dfe-a4d5-4b9b8222f78d"
      },
      "source": [
        "start = time.time()\n",
        "RF_grid_model = RandomForestClassifier(bootstrap= 'True', criterion= 'gini', max_features= 'auto', n_estimators= 50, n_jobs= -1)\n",
        "RF_grid_model.fit(X_train, y_train)\n",
        "\n",
        "y_train_pred = RF_grid_model.predict(X_train)\n",
        "stop = time.time()\n",
        "RF_Grid_time = {stop - start}\n",
        "print(f\"Training time: {RF_Grid_time} s\")"
      ],
      "execution_count": 457,
      "outputs": [
        {
          "output_type": "stream",
          "text": [
            "Training time: {1.634213924407959} s\n"
          ],
          "name": "stdout"
        }
      ]
    },
    {
      "cell_type": "code",
      "metadata": {
        "colab": {
          "base_uri": "https://localhost:8080/",
          "height": 442
        },
        "id": "Bkl2waZE_qOJ",
        "outputId": "3d5d340c-a356-416f-caeb-211ac3c7ffb5"
      },
      "source": [
        "CM_plot(confusion_matrix(y_train, y_train_pred))\n",
        "accuracy_score_RF_Grid = accuracy_score(y_train, y_train_pred)\n",
        "print(\"accuracy score:\", accuracy_score_RF_Grid)\n",
        "print(\"precision score:\", round(precision_score(y_train, y_train_pred), 4))\n",
        "print(\"recall score:\", round(recall_score(y_train, y_train_pred), 4))\n",
        "print(\"f1 score:\", round(f1_score(y_train, y_train_pred), 4))"
      ],
      "execution_count": 458,
      "outputs": [
        {
          "output_type": "stream",
          "text": [
            "accuracy score: 0.9993499951249635\n",
            "precision score: 0.9997\n",
            "recall score: 0.9976\n",
            "f1 score: 0.9986\n"
          ],
          "name": "stdout"
        },
        {
          "output_type": "display_data",
          "data": {
            "image/png": "[encoded data removed]",
            "text/plain": [
              "<Figure size 576x432 with 2 Axes>"
            ]
          },
          "metadata": {
            "tags": [],
            "needs_background": "light"
          }
        }
      ]
    },
    {
      "cell_type": "markdown",
      "metadata": {
        "id": "fG7j6exWwe_6"
      },
      "source": [
        "#### Model Report"
      ]
    },
    {
      "cell_type": "code",
      "metadata": {
        "id": "ErayQOpgra3J",
        "colab": {
          "base_uri": "https://localhost:8080/"
        },
        "outputId": "d47dd836-74cf-4000-b9d1-7f285fa595a2"
      },
      "source": [
        "print('Các độ đo thông số của các mô hình:')\n",
        "print('Support Vector Machine\\nClassification Report: \\n',accuracy_score_SVM_Grid)\n",
        "print('======================================================')\n",
        "print('LogisticRegression\\nClassification Report: \\n',accuracy_score_LR_Grid)\n",
        "print('======================================================')\n",
        "print('DecisionTreeClassifier\\nClassification Report: \\n',accuracy_score_DT_Grid)\n",
        "print('======================================================')\n",
        "print('RandomForestClassifier\\nClassification Report: \\n',accuracy_score_RF_Grid)"
      ],
      "execution_count": 459,
      "outputs": [
        {
          "output_type": "stream",
          "text": [
            "Các độ đo thông số của các mô hình:\n",
            "Support Vector Machine\n",
            "Classification Report: \n",
            " 0.8153986154896161\n",
            "======================================================\n",
            "LogisticRegression\n",
            "Classification Report: \n",
            " 0.8044460333452501\n",
            "======================================================\n",
            "DecisionTreeClassifier\n",
            "Classification Report: \n",
            " 0.8015860118950893\n",
            "======================================================\n",
            "RandomForestClassifier\n",
            "Classification Report: \n",
            " 0.9993499951249635\n"
          ],
          "name": "stdout"
        }
      ]
    },
    {
      "cell_type": "code",
      "metadata": {
        "id": "LFsOfeGKwUYW",
        "colab": {
          "base_uri": "https://localhost:8080/",
          "height": 281
        },
        "outputId": "12213d87-dc66-4ac5-d077-9ea54a829ca6"
      },
      "source": [
        "#in biểu đồ\n",
        "BarGraph=['SVM+GS','LR+GS','DT+GS','RF+GS']\n",
        "accuracy=[accuracy_score_SVM_Grid,accuracy_score_SVM_Grid,accuracy_score_DT_Grid,accuracy_score_RF_Grid]\n",
        "plt.bar(BarGraph,accuracy,color='green')\n",
        "plt.title('Bar Graph ACCURACY')\n",
        "plt.xlabel('')\n",
        "plt.ylabel('ACCURACY')\n",
        "plt.show()"
      ],
      "execution_count": 460,
      "outputs": [
        {
          "output_type": "display_data",
          "data": {
            "image/png": "[encoded data removed]",
            "text/plain": [
              "<Figure size 432x288 with 1 Axes>"
            ]
          },
          "metadata": {
            "tags": [],
            "needs_background": "light"
          }
        }
      ]
    },
    {
      "cell_type": "code",
      "metadata": {
        "colab": {
          "base_uri": "https://localhost:8080/"
        },
        "id": "qX8KBQQEDcTv",
        "outputId": "f7c17866-b57b-417b-aeab-8322074418a0"
      },
      "source": [
        "print('Thời gian huấn luyện các mô hình:')\n",
        "print('Support Vector Machine: \\n','time:', SVM_Grid_time)\n",
        "print('======================================================')\n",
        "print('LogisticRegression : \\n','time:',LR_Grid_time)\n",
        "print('======================================================')\n",
        "print('DecisionTreeClassifier : \\n','time:',DT_Grid_time)\n",
        "print('======================================================')\n",
        "print('RandomForestClassifier: \\n','time:',RF_Grid_time)"
      ],
      "execution_count": 461,
      "outputs": [
        {
          "output_type": "stream",
          "text": [
            "Thời gian huấn luyện các mô hình:\n",
            "Support Vector Machine: \n",
            " time: {58.418415546417236}\n",
            "======================================================\n",
            "LogisticRegression : \n",
            " time: {0.15232276916503906}\n",
            "======================================================\n",
            "DecisionTreeClassifier : \n",
            " time: {0.02375650405883789}\n",
            "======================================================\n",
            "RandomForestClassifier: \n",
            " time: {1.634213924407959}\n"
          ],
          "name": "stdout"
        }
      ]
    },
    {
      "cell_type": "markdown",
      "metadata": {
        "id": "jxUVAXR6v7Uj"
      },
      "source": [
        "***- Nhận xét***: \n",
        "- Ta sử dụng phương pháp Grid Search để tìm được các tham số tốt, phù hợp cho mô hình mà ta đang mong muốn cải thiện. Sau khi chúng tôi sử dụng các tham số Grid Search để train thì chúng tôi nhận thấy các độ đo của các mô hình có chiều hướng tăng, điều này cải thiện được hiệu suất bài toán.\n",
        "- Sau khi áp dụng chạy GirdSearch, chúng tôi thấy mô hình thuật toán Random Forest cho kết quả độ chính xác `accuracy` cao nhất với 99.95%, trong khi đó thời gian huấn luyện cho mô hình Decision Tree là thấp nhất với 0.027s.\n",
        "-  Chúng tôi nhận thấy tại thời điểm hiện tại, mô hình thuật toán Random Forest (GridSearch) đang là mô hình tốt nhất với độ chính xác `accuracy` là 99.95% và thời gian huấn luyện `time` là 1.64 s. Có thể thấy Random Forest đã tăng độ `accuracy` từ 85.55% lên 99.95%.\n"
      ]
    },
    {
      "cell_type": "markdown",
      "metadata": {
        "id": "kXq8Q4_CtXoR"
      },
      "source": [
        "## Với Feature Engineering"
      ]
    },
    {
      "cell_type": "markdown",
      "metadata": {
        "id": "fnQz4XUltfsL"
      },
      "source": [
        "### Principal Component Analysis (PCA)"
      ]
    },
    {
      "cell_type": "code",
      "metadata": {
        "id": "iNV24MWJtU-v"
      },
      "source": [
        "#PCA\n",
        "import time    \n",
        "from sklearn.decomposition import PCA\n",
        "from sklearn.metrics import classification_report,confusion_matrix\n",
        "from sklearn.model_selection import train_test_split\n",
        "from sklearn.pipeline import Pipeline\n",
        "from sklearn.model_selection import KFold, cross_val_score, cross_val_predict\n",
        "from sklearn.linear_model import LogisticRegression\n",
        "from sklearn.svm import SVC\n",
        "from sklearn.tree import DecisionTreeClassifier\n",
        "from sklearn.ensemble import RandomForestClassifier\n",
        "from sklearn.metrics import accuracy_score, precision_score, recall_score, f1_score\n",
        "from sklearn.metrics import precision_recall_curve, confusion_matrix\n",
        "from sklearn.ensemble import VotingClassifier\n",
        "from sklearn.tree import export_text\n",
        "from sklearn import tree\n",
        "from matplotlib import pyplot as plt\n",
        "from sklearn.pipeline import Pipeline\n",
        "from sklearn.preprocessing import StandardScaler\n",
        "from sklearn.svm import LinearSVC\n",
        "from sklearn.model_selection import GridSearchCV\n",
        "\n",
        "pca = PCA(n_components=8,svd_solver='full')\n",
        "X_reduced=pca.fit_transform(X_train)\n",
        "X_test_reduced=pca.fit_transform(X_train)\n",
        "Y_Train=y_train\n",
        "Y_Test=y_test"
      ],
      "execution_count": 462,
      "outputs": []
    },
    {
      "cell_type": "markdown",
      "metadata": {
        "id": "WGb7zdLWs6C9"
      },
      "source": [
        "#### Support Vector Machine"
      ]
    },
    {
      "cell_type": "code",
      "metadata": {
        "id": "0EfWzz779CP-",
        "colab": {
          "base_uri": "https://localhost:8080/",
          "height": 544
        },
        "outputId": "7d1f6ef3-08a7-420c-93f0-6d74bbf5f763"
      },
      "source": [
        "#SVM\n",
        "print('SVM\\n')\n",
        "start = time.time()\n",
        "PCASVM_model = SVC(C= 1000.0, gamma= 0.001)\n",
        "PCASVM_model.fit(X_reduced, Y_Train)\n",
        "y_pred=PCASVM_model.predict(X_reduced)\n",
        "stop = time.time()\n",
        "SVM_PCA_time = {stop - start}\n",
        "print(f\"Training time: {SVM_PCA_time} s\")\n",
        "CM_plot(confusion_matrix(Y_Train, y_pred))\n",
        "accuracy_score_PCASVM = accuracy_score(Y_Train, y_pred)\n",
        "print('Support Vector Machine\\nClassification Report: \\n')\n",
        "print(\"accuracy score:\", round(accuracy_score(Y_Train, y_pred), 4))\n",
        "print(\"precision score:\", round(precision_score(Y_Train, y_pred), 4))\n",
        "print(\"recall score:\", round(recall_score(Y_Train, y_pred), 4))\n",
        "print(\"f1 score:\", round(f1_score(Y_Train, y_pred), 4))"
      ],
      "execution_count": 463,
      "outputs": [
        {
          "output_type": "stream",
          "text": [
            "SVM\n",
            "\n",
            "Training time: {60.1667115688324} s\n",
            "Support Vector Machine\n",
            "Classification Report: \n",
            "\n",
            "accuracy score: 0.8123\n",
            "precision score: 0.8059\n",
            "recall score: 0.2838\n",
            "f1 score: 0.4197\n"
          ],
          "name": "stdout"
        },
        {
          "output_type": "display_data",
          "data": {
            "image/png": "[encoded data removed]",
            "text/plain": [
              "<Figure size 576x432 with 2 Axes>"
            ]
          },
          "metadata": {
            "tags": [],
            "needs_background": "light"
          }
        }
      ]
    },
    {
      "cell_type": "markdown",
      "metadata": {
        "id": "jI3r78eks5Ab"
      },
      "source": [
        "#### RandomForestClassifier"
      ]
    },
    {
      "cell_type": "code",
      "metadata": {
        "id": "Hl59cQEQ9FSd",
        "colab": {
          "base_uri": "https://localhost:8080/",
          "height": 544
        },
        "outputId": "78981884-b6f7-4177-b476-7bfdb2118030"
      },
      "source": [
        "#RandomForest\n",
        "print('RandomForest\\n')\n",
        "start = time.time()\n",
        "PCARF_model=RandomForestClassifier(bootstrap= True, criterion= 'gini', max_features= 'auto', n_estimators =50, n_jobs= -1)\n",
        "PCARF_model.fit(X_reduced,Y_Train)\n",
        "y_pred=PCARF_model.predict(X_reduced)\n",
        "stop = time.time()\n",
        "RF_PCA_time = {stop - start}\n",
        "print(f\"Training time: {RF_PCA_time} s\")\n",
        "CM_plot(confusion_matrix(Y_Train, y_pred))\n",
        "accuracy_score_PCARF = accuracy_score(Y_Train, y_pred)\n",
        "print('RandomForestClassifier\\nClassification Report: \\n')\n",
        "print(\"accuracy score:\", round(accuracy_score(Y_Train, y_pred), 4))\n",
        "print(\"precision score:\", round(precision_score(Y_Train, y_pred), 4))\n",
        "print(\"recall score:\", round(recall_score(Y_Train, y_pred), 4))\n",
        "print(\"f1 score:\", round(f1_score(Y_Train, y_pred), 4))"
      ],
      "execution_count": 464,
      "outputs": [
        {
          "output_type": "stream",
          "text": [
            "RandomForest\n",
            "\n",
            "Training time: {3.5423386096954346} s\n",
            "RandomForestClassifier\n",
            "Classification Report: \n",
            "\n",
            "accuracy score: 0.9995\n",
            "precision score: 0.9997\n",
            "recall score: 0.9981\n",
            "f1 score: 0.9989\n"
          ],
          "name": "stdout"
        },
        {
          "output_type": "display_data",
          "data": {
            "image/png": "[encoded data removed]",
            "text/plain": [
              "<Figure size 576x432 with 2 Axes>"
            ]
          },
          "metadata": {
            "tags": [],
            "needs_background": "light"
          }
        }
      ]
    },
    {
      "cell_type": "markdown",
      "metadata": {
        "id": "pdn8IDX_tMSH"
      },
      "source": [
        "#### Logistic Regression"
      ]
    },
    {
      "cell_type": "code",
      "metadata": {
        "id": "EyMTwc0X9Ijh",
        "colab": {
          "base_uri": "https://localhost:8080/",
          "height": 544
        },
        "outputId": "90a0c606-7f04-4274-f245-e8fe8df7a483"
      },
      "source": [
        "#Logictics Regression\n",
        "print('Logictics Regression\\n')\n",
        "start = time.time()\n",
        "PCALR_model = LogisticRegression(C=0.001, penalty= 'l1', solver= 'saga')\n",
        "PCALR_model.fit(X_reduced,Y_Train)\n",
        "y_pred=PCALR_model.predict(X_reduced)\n",
        "stop = time.time()\n",
        "LR_PCA_time = {stop - start}\n",
        "print(f\"Training time: {LR_PCA_time} s\")\n",
        "CM_plot(confusion_matrix(Y_Train, y_pred))\n",
        "accuracy_score_PCALR = accuracy_score(Y_Train, y_pred)\n",
        "print('LogisticRegression\\nClassification Report: \\n')\n",
        "print(\"accuracy score:\", round(accuracy_score(Y_Train, y_pred), 4))\n",
        "print(\"precision score:\", round(precision_score(Y_Train, y_pred), 4))\n",
        "print(\"recall score:\", round(recall_score(Y_Train, y_pred), 4))\n",
        "print(\"f1 score:\", round(f1_score(Y_Train, y_pred),4))"
      ],
      "execution_count": 465,
      "outputs": [
        {
          "output_type": "stream",
          "text": [
            "Logictics Regression\n",
            "\n",
            "Training time: {0.13168644905090332} s\n",
            "LogisticRegression\n",
            "Classification Report: \n",
            "\n",
            "accuracy score: 0.7869\n",
            "precision score: 0.7359\n",
            "recall score: 0.1703\n",
            "f1 score: 0.2766\n"
          ],
          "name": "stdout"
        },
        {
          "output_type": "display_data",
          "data": {
            "image/png": "[encoded data removed]",
            "text/plain": [
              "<Figure size 576x432 with 2 Axes>"
            ]
          },
          "metadata": {
            "tags": [],
            "needs_background": "light"
          }
        }
      ]
    },
    {
      "cell_type": "markdown",
      "metadata": {
        "id": "AKLsxDDwtRKJ"
      },
      "source": [
        "#### DecisionTreeClassifier"
      ]
    },
    {
      "cell_type": "code",
      "metadata": {
        "id": "I0GYXZA19KRX",
        "colab": {
          "base_uri": "https://localhost:8080/",
          "height": 544
        },
        "outputId": "89b0ad9d-522a-49ce-b51b-42f115bc418b"
      },
      "source": [
        "#DecisionTree\n",
        "print('DecisionTree\\n')\n",
        "start = time.time()\n",
        "PCADT_model = DecisionTreeClassifier(criterion= 'entropy', max_depth= 4, max_features= 'auto', min_samples_leaf= 2)\n",
        "PCADT_model = PCADT_model.fit(X_reduced,Y_Train)\n",
        "y_pred=PCADT_model.predict(X_reduced)\n",
        "stop = time.time()\n",
        "DT_PCA_time = {stop - start}\n",
        "print(f\"Training time: {DT_PCA_time} s\")\n",
        "CM_plot(confusion_matrix(Y_Train, y_pred))\n",
        "accuracy_score_PCADT = accuracy_score(Y_Train, y_pred)\n",
        "print('DecisionTreeClassifier\\nClassification Report: \\n')\n",
        "print(\"accuracy score:\", round(accuracy_score(Y_Train, y_pred), 4))\n",
        "print(\"precision score:\", round(precision_score(Y_Train, y_pred), 4))\n",
        "print(\"recall score:\", round(recall_score(Y_Train, y_pred), 4))\n",
        "print(\"f1 score:\", round(f1_score(Y_Train, y_pred), 4))"
      ],
      "execution_count": 466,
      "outputs": [
        {
          "output_type": "stream",
          "text": [
            "DecisionTree\n",
            "\n",
            "Training time: {0.07030773162841797} s\n",
            "DecisionTreeClassifier\n",
            "Classification Report: \n",
            "\n",
            "accuracy score: 0.8056\n",
            "precision score: 0.8347\n",
            "recall score: 0.2339\n",
            "f1 score: 0.3654\n"
          ],
          "name": "stdout"
        },
        {
          "output_type": "display_data",
          "data": {
            "image/png": "[encoded data removed]",
            "text/plain": [
              "<Figure size 576x432 with 2 Axes>"
            ]
          },
          "metadata": {
            "tags": [],
            "needs_background": "light"
          }
        }
      ]
    },
    {
      "cell_type": "markdown",
      "metadata": {
        "id": "OF59PbUvtmf3"
      },
      "source": [
        "##### Model Report"
      ]
    },
    {
      "cell_type": "code",
      "metadata": {
        "id": "Trv78KO3tlYk",
        "colab": {
          "base_uri": "https://localhost:8080/"
        },
        "outputId": "4847d33b-5ebe-4af6-a3e0-c87dd09644c4"
      },
      "source": [
        "print('Các độ đo thông số của các mô hình:')\n",
        "print('Support Vector Machine\\nClassification Report: \\n',accuracy_score_PCASVM)\n",
        "print('======================================================')\n",
        "print('LogisticRegression\\nClassification Report: \\n',accuracy_score_PCALR)\n",
        "print('======================================================')\n",
        "print('DecisionTreeClassifier\\nClassification Report: \\n',accuracy_score_PCADT)\n",
        "print('======================================================')\n",
        "print('RandomForestClassifier\\nClassification Report: \\n',accuracy_score_PCARF)"
      ],
      "execution_count": 467,
      "outputs": [
        {
          "output_type": "stream",
          "text": [
            "Các độ đo thông số của các mô hình:\n",
            "Support Vector Machine\n",
            "Classification Report: \n",
            " 0.8122785920894406\n",
            "======================================================\n",
            "LogisticRegression\n",
            "Classification Report: \n",
            " 0.786863401475511\n",
            "======================================================\n",
            "DecisionTreeClassifier\n",
            "Classification Report: \n",
            " 0.8056160421203159\n",
            "======================================================\n",
            "RandomForestClassifier\n",
            "Classification Report: \n",
            " 0.9994799960999707\n"
          ],
          "name": "stdout"
        }
      ]
    },
    {
      "cell_type": "code",
      "metadata": {
        "id": "OO4N1Vm5ttdV",
        "colab": {
          "base_uri": "https://localhost:8080/",
          "height": 295
        },
        "outputId": "f444c2df-6a93-43fc-8a0e-4de8469f449b"
      },
      "source": [
        "#in biểu đồ\n",
        "BarGraph=['SVM+PCA','LR+PCA','DTC+PCA','RFC+PCA']\n",
        "accuracy=[accuracy_score_PCASVM,accuracy_score_PCALR,accuracy_score_PCADT ,accuracy_score_PCARF]\n",
        "plt.bar(BarGraph,accuracy,color='green')\n",
        "plt.title('Bar Graph ACCURACY')\n",
        "plt.xlabel('  ')\n",
        "plt.ylabel('ACCURACY')\n",
        "plt.show()"
      ],
      "execution_count": 468,
      "outputs": [
        {
          "output_type": "display_data",
          "data": {
            "image/png": "[encoded data removed]",
            "text/plain": [
              "<Figure size 432x288 with 1 Axes>"
            ]
          },
          "metadata": {
            "tags": [],
            "needs_background": "light"
          }
        }
      ]
    },
    {
      "cell_type": "code",
      "metadata": {
        "colab": {
          "base_uri": "https://localhost:8080/"
        },
        "id": "Qajd9Ol0Fdkm",
        "outputId": "f7b94dee-b669-414e-db0c-74c575c3ff27"
      },
      "source": [
        "print('Thời gian huấn luyện các mô hình:')\n",
        "print('Support Vector Machine: \\n','time:', SVM_PCA_time)\n",
        "print('======================================================')\n",
        "print('LogisticRegression : \\n','time:',LR_PCA_time)\n",
        "print('======================================================')\n",
        "print('DecisionTreeClassifier : \\n','time:',DT_PCA_time)\n",
        "print('======================================================')\n",
        "print('RandomForestClassifier: \\n','time:',RF_PCA_time)"
      ],
      "execution_count": 469,
      "outputs": [
        {
          "output_type": "stream",
          "text": [
            "Thời gian huấn luyện các mô hình:\n",
            "Support Vector Machine: \n",
            " time: {60.1667115688324}\n",
            "======================================================\n",
            "LogisticRegression : \n",
            " time: {0.13168644905090332}\n",
            "======================================================\n",
            "DecisionTreeClassifier : \n",
            " time: {0.07030773162841797}\n",
            "======================================================\n",
            "RandomForestClassifier: \n",
            " time: {3.5423386096954346}\n"
          ],
          "name": "stdout"
        }
      ]
    },
    {
      "cell_type": "markdown",
      "metadata": {
        "id": "a1pTCWQrvxsO"
      },
      "source": [
        "***- Nhận xét***: \n",
        "- Sau khi sử dụng PCA để giảm chiều kích thước của dữ liệu, ta nhận thấy các độ đo của các mô hình có chiều hướng giảm, tuy nhiên ở mô hình Random Forest vẫn có kết quả rất tốt và không thay đổi.\n",
        "- Qua việc nhìn nhận các độ đo này của các mô hình, chúng tôi cho rằng áp dụng PCA vào không giúp tăng độ chính xác của việc tinh chỉnh mô hình.\n",
        "- Sau khi áp dụng chạy GridSearch và dùng feature engineering là PCA, chúng tôi thấy mô hình thuật toán Random Forest cho kết quả độ chính xác `accuracy` cao nhất với 99.95%, trong khi đó thời gian huấn luyện cho mô hình Decision Tree là thấp nhất với 0.079s.\n",
        "-  Chúng tôi nhận thấy tại thời điểm hiện tại, mô hình thuật toán Random Forest (GridSearch) đang là mô hình tốt nhất với độ chính xác `accuracy` là 99.95% và thời gian huấn luyện `time` là 1.64 s."
      ]
    },
    {
      "cell_type": "markdown",
      "metadata": {
        "id": "PNUhWxru-cAM"
      },
      "source": [
        "### One-Hot Encoding (OHE)"
      ]
    },
    {
      "cell_type": "code",
      "metadata": {
        "id": "TjNrYS3SbrZO",
        "colab": {
          "base_uri": "https://localhost:8080/"
        },
        "outputId": "4f4ea966-8963-4a37-c5f4-04ffab640042"
      },
      "source": [
        "#One Hot Encoding\n",
        "import time\n",
        "from sklearn.decomposition import PCA\n",
        "from sklearn.metrics import classification_report,confusion_matrix\n",
        "from sklearn.model_selection import train_test_split\n",
        "from sklearn.pipeline import Pipeline\n",
        "from sklearn.model_selection import KFold, cross_val_score, cross_val_predict\n",
        "from sklearn.linear_model import LogisticRegression\n",
        "from sklearn.svm import SVC\n",
        "from sklearn.tree import DecisionTreeClassifier\n",
        "from sklearn.ensemble import RandomForestClassifier\n",
        "from sklearn.metrics import accuracy_score, precision_score, recall_score, f1_score\n",
        "from sklearn.metrics import precision_recall_curve, confusion_matrix\n",
        "from sklearn.ensemble import VotingClassifier\n",
        "from sklearn.tree import export_text\n",
        "from sklearn import tree\n",
        "from matplotlib import pyplot as plt\n",
        "from sklearn.pipeline import Pipeline\n",
        "from sklearn.preprocessing import StandardScaler\n",
        "from sklearn.svm import LinearSVC\n",
        "from sklearn.model_selection import GridSearchCV\n",
        "\n",
        "path = '/content/drive/My Drive/CS313.L11.KHCL - Data Mining/data/income.csv'\n",
        "data = pd.read_csv(path)\n",
        "\n",
        "data=data.drop(['educational-num'], axis = 1)\n",
        "\n",
        "total = data.isnull().sum()\n",
        "\n",
        "percent = (data.isnull().sum()/data.isnull().count()*100)\n",
        "\n",
        "missing_data = pd.concat([total, percent], axis=1, keys=['Total', 'Percent'])\n",
        "missing_data.head(15)\n",
        "data = data.fillna(value={'workclass':'Private','occupation':'Craft-repair','native-country':'United-States'}) \n",
        "OHEdata = pd.get_dummies(data)\n",
        "OHEdata.shape\n",
        "std = StandardScaler()\n",
        "\n",
        "data_std = std.fit_transform(OHEdata)\n",
        "X = OHEdata.drop(['income_>50K'], axis = 1)\n",
        "y = OHEdata['income_>50K']\n",
        "pca = PCA(n_components=40,svd_solver='full')\n",
        "data_pca = pca.fit_transform(X)\n",
        "X_train, X_test, y_train, y_test = train_test_split(data_pca, y, test_size = 0.3, random_state = 101)\n",
        "X.shape"
      ],
      "execution_count": 470,
      "outputs": [
        {
          "output_type": "execute_result",
          "data": {
            "text/plain": [
              "(43957, 104)"
            ]
          },
          "metadata": {
            "tags": []
          },
          "execution_count": 470
        }
      ]
    },
    {
      "cell_type": "markdown",
      "metadata": {
        "id": "6JVY-hLHt8ON"
      },
      "source": [
        "#### Logistic Regression"
      ]
    },
    {
      "cell_type": "code",
      "metadata": {
        "id": "e18SvpO1uHFQ",
        "colab": {
          "base_uri": "https://localhost:8080/",
          "height": 493
        },
        "outputId": "bb7fd1cd-aa11-4bb6-c821-c444fed9a442"
      },
      "source": [
        "print('Logictics Regression\\n')\n",
        "start = time.time()\n",
        "LR_OHE_model = LogisticRegression(C = 10000, solver='liblinear', random_state=0, max_iter=1000)\n",
        "LR_OHE_model.fit(X_train, y_train)\n",
        "y_pred = LR_OHE_model.predict(X_train) #Kết quả dự đoán tập test\n",
        "stop = time.time()\n",
        "LR_OHE_time = {stop - start}\n",
        "print(f\"Training time: {LR_OHE_time} s\")\n",
        "CM_plot(confusion_matrix(y_train, y_pred))\n",
        "accuracy_score_LR_OHE = accuracy_score(y_train, y_pred)\n",
        "print(\"accuracy score:\", round(accuracy_score(y_train, y_pred), 4))\n",
        "print(\"precision score:\", round(precision_score(y_train, y_pred), 4))\n",
        "print(\"recall score:\", round(recall_score(y_train, y_pred), 4))\n",
        "print(\"f1 score:\", round(f1_score(y_train, y_pred), 4))"
      ],
      "execution_count": 471,
      "outputs": [
        {
          "output_type": "stream",
          "text": [
            "Logictics Regression\n",
            "\n",
            "Training time: {1.4266843795776367} s\n",
            "accuracy score: 0.8509\n",
            "precision score: 0.7283\n",
            "recall score: 0.5962\n",
            "f1 score: 0.6557\n"
          ],
          "name": "stdout"
        },
        {
          "output_type": "display_data",
          "data": {
            "image/png": "[encoded data removed]",
            "text/plain": [
              "<Figure size 576x432 with 2 Axes>"
            ]
          },
          "metadata": {
            "tags": [],
            "needs_background": "light"
          }
        }
      ]
    },
    {
      "cell_type": "markdown",
      "metadata": {
        "id": "hodg_F3_t8az"
      },
      "source": [
        "#### Support Vector Machine"
      ]
    },
    {
      "cell_type": "code",
      "metadata": {
        "id": "u8MTcCEsuOLt",
        "colab": {
          "base_uri": "https://localhost:8080/",
          "height": 530
        },
        "outputId": "e71879ca-2b9a-4a7e-a47a-87db348f83bd"
      },
      "source": [
        "print('Support Vector Machine')\n",
        "start = time.time()\n",
        "SVM_Linear_OHE_model = Pipeline([\n",
        " (\"scaler\", StandardScaler()),\n",
        " (\"linear_svc\", LinearSVC()),\n",
        " ])\n",
        "SVM_Linear_OHE_model.fit(X_train, y_train)\n",
        "y_pred = SVM_Linear_OHE_model.predict(X_train)\n",
        "stop = time.time()\n",
        "SVM_OHE_time = {stop - start}\n",
        "print(f\"Training time: {SVM_OHE_time} s\")\n",
        "CM_plot(confusion_matrix(y_train, y_pred))\n",
        "accuracy_score_SVM_Linear_OHE = accuracy_score(y_train, y_pred)\n",
        "print(\"accuracy score:\", round(accuracy_score(y_train, y_pred), 4))\n",
        "print(\"precision score:\", round(precision_score(y_train, y_pred), 4))\n",
        "print(\"recall score:\", round(recall_score(y_train, y_pred), 4))\n",
        "print(\"f1 score:\", round(f1_score(y_train, y_pred), 4))"
      ],
      "execution_count": 472,
      "outputs": [
        {
          "output_type": "stream",
          "text": [
            "Support Vector Machine\n"
          ],
          "name": "stdout"
        },
        {
          "output_type": "stream",
          "text": [
            "/usr/local/lib/python3.6/dist-packages/sklearn/svm/_base.py:947: ConvergenceWarning: Liblinear failed to converge, increase the number of iterations.\n",
            "  \"the number of iterations.\", ConvergenceWarning)\n"
          ],
          "name": "stderr"
        },
        {
          "output_type": "stream",
          "text": [
            "Training time: {8.83204960823059} s\n",
            "accuracy score: 0.8506\n",
            "precision score: 0.7333\n",
            "recall score: 0.5858\n",
            "f1 score: 0.6513\n"
          ],
          "name": "stdout"
        },
        {
          "output_type": "display_data",
          "data": {
            "image/png": "[encoded data removed]",
            "text/plain": [
              "<Figure size 576x432 with 2 Axes>"
            ]
          },
          "metadata": {
            "tags": [],
            "needs_background": "light"
          }
        }
      ]
    },
    {
      "cell_type": "markdown",
      "metadata": {
        "id": "PUJki0snt8mr"
      },
      "source": [
        "#### RandomForestClassifier"
      ]
    },
    {
      "cell_type": "code",
      "metadata": {
        "id": "mZ6HPcP1uMos",
        "colab": {
          "base_uri": "https://localhost:8080/",
          "height": 493
        },
        "outputId": "ec0fbcb0-e94f-4914-83d8-57a3f955faf4"
      },
      "source": [
        "print('RanDom Forest \\n')\n",
        "start = time.time()\n",
        "RF__OHE_model=RandomForestClassifier(bootstrap= True, criterion= 'gini', max_features= 'auto', n_estimators =50, n_jobs= -1)\n",
        "RF__OHE_model.fit(X_train, y_train)\n",
        "y_pred = RF__OHE_model.predict(X_train)\n",
        "stop = time.time()\n",
        "RF_OHE_time = {stop - start}\n",
        "print(f\"Training time: {RF_OHE_time} s\")\n",
        "CM_plot(confusion_matrix(y_train, y_pred))\n",
        "accuracy_score_RF_OHE = accuracy_score(y_train, y_pred)\n",
        "print(\"accuracy score:\", round(accuracy_score(y_train, y_pred), 4))\n",
        "print(\"precision score:\", round(precision_score(y_train, y_pred), 4))\n",
        "print(\"recall score:\", round(recall_score(y_train, y_pred), 4))\n",
        "print(\"f1 score:\", round(f1_score(y_train, y_pred), 4))"
      ],
      "execution_count": 473,
      "outputs": [
        {
          "output_type": "stream",
          "text": [
            "RanDom Forest \n",
            "\n",
            "Training time: {9.459477186203003} s\n",
            "accuracy score: 0.9996\n",
            "precision score: 0.9999\n",
            "recall score: 0.9985\n",
            "f1 score: 0.9992\n"
          ],
          "name": "stdout"
        },
        {
          "output_type": "display_data",
          "data": {
            "image/png": "[encoded data removed]",
            "text/plain": [
              "<Figure size 576x432 with 2 Axes>"
            ]
          },
          "metadata": {
            "tags": [],
            "needs_background": "light"
          }
        }
      ]
    },
    {
      "cell_type": "markdown",
      "metadata": {
        "id": "3QJ0AyOUt80X"
      },
      "source": [
        "#### DecisionTreeClassifier"
      ]
    },
    {
      "cell_type": "code",
      "metadata": {
        "id": "RIy5hcDCbsm0",
        "colab": {
          "base_uri": "https://localhost:8080/",
          "height": 493
        },
        "outputId": "1cda8330-3b99-4e84-d93d-a7da72820deb"
      },
      "source": [
        "print('Decision Tree \\n')\n",
        "start = time.time()\n",
        "DT_OHE_model = DecisionTreeClassifier(criterion= 'entropy', max_depth= 4, max_features= 'auto', min_samples_leaf= 2)\n",
        "DT_OHE_model = DT_OHE_model.fit(X_train, y_train)\n",
        "y_pred = DT_OHE_model.predict(X_train)\n",
        "stop = time.time()\n",
        "DT_OHE_time = {stop - start}\n",
        "print(f\"Training time: {DT_OHE_time} s\")\n",
        "CM_plot(confusion_matrix(y_train, y_pred))\n",
        "accuracy_score_DT_OHE = accuracy_score(y_train, y_pred)\n",
        "print(\"accuracy score:\", round(accuracy_score(y_train, y_pred), 4))\n",
        "print(\"precision score:\", round(precision_score(y_train, y_pred), 4))\n",
        "print(\"recall score:\", round(recall_score(y_train, y_pred), 4))\n",
        "print(\"f1 score:\", round(f1_score(y_train, y_pred), 4))"
      ],
      "execution_count": 476,
      "outputs": [
        {
          "output_type": "stream",
          "text": [
            "Decision Tree \n",
            "\n",
            "Training time: {0.2208399772644043} s\n",
            "accuracy score: 0.8032\n",
            "precision score: 0.9877\n",
            "recall score: 0.176\n",
            "f1 score: 0.2988\n"
          ],
          "name": "stdout"
        },
        {
          "output_type": "display_data",
          "data": {
            "image/png": "[encoded data removed]",
            "text/plain": [
              "<Figure size 576x432 with 2 Axes>"
            ]
          },
          "metadata": {
            "tags": [],
            "needs_background": "light"
          }
        }
      ]
    },
    {
      "cell_type": "markdown",
      "metadata": {
        "id": "0OhZvroxuYVb"
      },
      "source": [
        "##### Model Report"
      ]
    },
    {
      "cell_type": "code",
      "metadata": {
        "id": "FBHAPhabuarI",
        "colab": {
          "base_uri": "https://localhost:8080/"
        },
        "outputId": "fdac7932-4f49-4abd-82e1-a28455aa7594"
      },
      "source": [
        "print('Các độ đo thông số của các mô hình:')\n",
        "print('Support Vector Machine\\nClassification Report: \\n',accuracy_score_SVM_Linear_OHE)\n",
        "print('======================================================')\n",
        "print('LogisticRegression\\nClassification Report: \\n',accuracy_score_LR_OHE)\n",
        "print('======================================================')\n",
        "print('DecisionTreeClassifier\\nClassification Report: \\n',accuracy_score_DT_OHE)\n",
        "print('======================================================')\n",
        "print('RandomForestClassifier\\nClassification Report: \\n',accuracy_score_RF_OHE)"
      ],
      "execution_count": 479,
      "outputs": [
        {
          "output_type": "stream",
          "text": [
            "Các độ đo thông số của các mô hình:\n",
            "Support Vector Machine\n",
            "Classification Report: \n",
            " 0.8506288797165978\n",
            "======================================================\n",
            "LogisticRegression\n",
            "Classification Report: \n",
            " 0.8508563814228607\n",
            "======================================================\n",
            "DecisionTreeClassifier\n",
            "Classification Report: \n",
            " 0.8032435243264324\n",
            "======================================================\n",
            "RandomForestClassifier\n",
            "Classification Report: \n",
            " 0.9996099970749781\n"
          ],
          "name": "stdout"
        }
      ]
    },
    {
      "cell_type": "code",
      "metadata": {
        "id": "zd6qOjtW9Tq3",
        "colab": {
          "base_uri": "https://localhost:8080/",
          "height": 281
        },
        "outputId": "9bf4e95d-3bd3-4a50-f7e2-4d64742b7414"
      },
      "source": [
        "#in biểu đồ\n",
        "BarGraph=['SVM+OHE','LR+OHE','DTC+OHE','RFC+OHE']\n",
        "accuracy=[accuracy_score_SVM_Linear_OHE,accuracy_score_LR_OHE,accuracy_score_RT_OHE,accuracy_score_RF_OHE]\n",
        "plt.bar(BarGraph,accuracy,color='green')\n",
        "plt.title('Bar Graph ACCURACY')\n",
        "plt.xlabel('')\n",
        "plt.ylabel('ACCURACY')\n",
        "plt.show()"
      ],
      "execution_count": 480,
      "outputs": [
        {
          "output_type": "display_data",
          "data": {
            "image/png": "[encoded data removed]",
            "text/plain": [
              "<Figure size 432x288 with 1 Axes>"
            ]
          },
          "metadata": {
            "tags": [],
            "needs_background": "light"
          }
        }
      ]
    },
    {
      "cell_type": "code",
      "metadata": {
        "colab": {
          "base_uri": "https://localhost:8080/"
        },
        "id": "PYqYs0LqGLtx",
        "outputId": "92b4de4d-8678-4e55-b30c-dc00491da1c7"
      },
      "source": [
        "print('Thời gian huấn luyện các mô hình:')\n",
        "print('Support Vector Machine: \\n','time:', SVM_OHE_time)\n",
        "print('======================================================')\n",
        "print('LogisticRegression : \\n','time:',LR_OHE_time)\n",
        "print('======================================================')\n",
        "print('DecisionTreeClassifier : \\n','time:',DT_OHE_time)\n",
        "print('======================================================')\n",
        "print('RandomForestClassifier: \\n','time:',RF_OHE_time)"
      ],
      "execution_count": 481,
      "outputs": [
        {
          "output_type": "stream",
          "text": [
            "Thời gian huấn luyện các mô hình:\n",
            "Support Vector Machine: \n",
            " time: {8.83204960823059}\n",
            "======================================================\n",
            "LogisticRegression : \n",
            " time: {1.4266843795776367}\n",
            "======================================================\n",
            "DecisionTreeClassifier : \n",
            " time: {0.2208399772644043}\n",
            "======================================================\n",
            "RandomForestClassifier: \n",
            " time: {9.459477186203003}\n"
          ],
          "name": "stdout"
        }
      ]
    },
    {
      "cell_type": "markdown",
      "metadata": {
        "id": "yvfgfmMQvmZE"
      },
      "source": [
        "***- Nhận xét***: \n",
        "- Sau khi sử dụng OHE để tăng chiều kích thước của dữ liệu, ta nhận thấy các độ đo của các mô hình có xu hướng tăng rõ rệt (tăng gần 5% so với khi chạy Grid Search đối với các mô hình Logistic Regression, Decision Tree, SVM). Ở mô hình Random Forest vẫn có kết quả cao nhất với độ accuracy đạt tới 99.94% và precision đạt 99.95%.\n",
        "- Qua việc nhìn nhận các độ đo này của các mô hình, chúng tôi cho rằng áp dụng OHE sẽ giúp tăng độ chính xác của việc tinh chỉnh mô hình, điều này giúp kết quả dự đoán tốt hơn.\n",
        "- Sau khi áp dụng chạy GridSearch và dùng feature engineering là OHE, chúng tôi thấy mô hình thuật toán Random Forest cho kết quả độ chính xác `accuracy` cao nhất với 99.94%, trong khi đó thời gian huấn luyện cho mô hình Decision Tree là thấp nhất với 0.21s.\n",
        "-  Chúng tôi nhận thấy tại thời điểm hiện tại, mô hình thuật toán Random Forest (GridSearch) đang là mô hình tốt nhất với độ chính xác `accuracy` là 99.95% và thời gian huấn luyện `time` là 1.64 s.\n"
      ]
    },
    {
      "cell_type": "markdown",
      "metadata": {
        "id": "Wr78Si7hu1EA"
      },
      "source": [
        "# Chạy dữ liệu tập test"
      ]
    },
    {
      "cell_type": "markdown",
      "metadata": {
        "id": "C7M3TMj7u9EX"
      },
      "source": [
        "## Chạy trên mô hình có độ chính xác cao nhất"
      ]
    },
    {
      "cell_type": "code",
      "metadata": {
        "id": "NxOrd-Tyu4r6",
        "colab": {
          "base_uri": "https://localhost:8080/",
          "height": 459
        },
        "outputId": "c4018233-137d-4142-e4d2-ae2fd2b75ad6"
      },
      "source": [
        "RF__OHE_model.fit(X_test, y_test)\n",
        "\n",
        "y_train_pred = RF__OHE_model.predict(X_train)\n",
        "\n",
        "RF__OHE_model.fit(X_test, y_test)\n",
        "\n",
        "y_pred = RF__OHE_model.predict(X_test)\n",
        "\n",
        "print('RF_OHE_model')\n",
        "print(\"accuracy score:\", round(accuracy_score(y_test, y_pred), 4))\n",
        "print(\"precision score:\", round(precision_score(y_test, y_pred), 4))\n",
        "print(\"recall score:\", round(recall_score(y_test, y_pred), 4))\n",
        "print(\"f1 score:\", round(f1_score(y_test, y_pred), 4))\n",
        "CM_plot(confusion_matrix(y_test, y_pred))"
      ],
      "execution_count": 511,
      "outputs": [
        {
          "output_type": "stream",
          "text": [
            "RF_OHE_model\n",
            "accuracy score: 0.9996\n",
            "precision score: 0.9994\n",
            "recall score: 0.9991\n",
            "f1 score: 0.9992\n"
          ],
          "name": "stdout"
        },
        {
          "output_type": "display_data",
          "data": {
            "image/png": "[encoded data removed]",
            "text/plain": [
              "<Figure size 576x432 with 2 Axes>"
            ]
          },
          "metadata": {
            "tags": [],
            "needs_background": "light"
          }
        }
      ]
    },
    {
      "cell_type": "code",
      "metadata": {
        "id": "FKZp3jDo9Vwm",
        "colab": {
          "base_uri": "https://localhost:8080/",
          "height": 297
        },
        "outputId": "6ae9ff48-6e8d-4285-fe71-545a207811d8"
      },
      "source": [
        "cm_matrix = pd.crosstab(y_test, y_pred, rownames=[\"Thực sự\"], colnames=[\"Dự đoán\"])\n",
        "sns.heatmap(cm_matrix, annot=True, fmt=\"d\")"
      ],
      "execution_count": 512,
      "outputs": [
        {
          "output_type": "execute_result",
          "data": {
            "text/plain": [
              "<matplotlib.axes._subplots.AxesSubplot at 0x7f8c8272b630>"
            ]
          },
          "metadata": {
            "tags": []
          },
          "execution_count": 512
        },
        {
          "output_type": "display_data",
          "data": {
            "image/png": "[encoded data removed]",
            "text/plain": [
              "<Figure size 432x288 with 2 Axes>"
            ]
          },
          "metadata": {
            "tags": [],
            "needs_background": "light"
          }
        }
      ]
    },
    {
      "cell_type": "code",
      "metadata": {
        "colab": {
          "base_uri": "https://localhost:8080/",
          "height": 463
        },
        "id": "9sEbQTsEctkh",
        "outputId": "1f50ea4e-94e3-499c-a4b6-a050aa7873ce"
      },
      "source": [
        "RF_grid_model.fit(X_test, y_test)\n",
        "\n",
        "y_train_pred = RF_grid_model.predict(X_train)\n",
        "\n",
        "RF_grid_model.fit(X_test, y_test)\n",
        "\n",
        "y_pred = RF_grid_model.predict(X_test)\n",
        "\n",
        "print('RF_Grid_model')\n",
        "print(\"accuracy score:\", round(accuracy_score(y_test, y_pred), 4))\n",
        "print(\"precision score:\", round(precision_score(y_test, y_pred), 4))\n",
        "print(\"recall score:\", round(recall_score(y_test, y_pred), 4))\n",
        "print(\"f1 score:\", round(f1_score(y_test, y_pred), 4))\n",
        "CM_plot(confusion_matrix(y_test, y_pred))"
      ],
      "execution_count": 514,
      "outputs": [
        {
          "output_type": "stream",
          "text": [
            "RF_Grid_model\n",
            "accuracy score: 0.9998\n",
            "precision score: 1.0\n",
            "recall score: 0.9991\n",
            "f1 score: 0.9995\n"
          ],
          "name": "stdout"
        },
        {
          "output_type": "display_data",
          "data": {
            "image/png": "[encoded data removed]",
            "text/plain": [
              "<Figure size 576x432 with 2 Axes>"
            ]
          },
          "metadata": {
            "tags": [],
            "needs_background": "light"
          }
        }
      ]
    },
    {
      "cell_type": "code",
      "metadata": {
        "colab": {
          "base_uri": "https://localhost:8080/",
          "height": 297
        },
        "id": "t9n6PIt_dOwt",
        "outputId": "a998edee-a8a3-47ef-864a-ee31b64412be"
      },
      "source": [
        "cm_matrix = pd.crosstab(y_test, y_pred, rownames=[\"Thực sự\"], colnames=[\"Dự đoán\"])\n",
        "sns.heatmap(cm_matrix, annot=True, fmt=\"d\")"
      ],
      "execution_count": 515,
      "outputs": [
        {
          "output_type": "execute_result",
          "data": {
            "text/plain": [
              "<matplotlib.axes._subplots.AxesSubplot at 0x7f8c78fec7f0>"
            ]
          },
          "metadata": {
            "tags": []
          },
          "execution_count": 515
        },
        {
          "output_type": "display_data",
          "data": {
            "image/png": "[encoded data removed]",
            "text/plain": [
              "<Figure size 432x288 with 2 Axes>"
            ]
          },
          "metadata": {
            "tags": [],
            "needs_background": "light"
          }
        }
      ]
    },
    {
      "cell_type": "markdown",
      "metadata": {
        "id": "o4graPNUvLoA"
      },
      "source": [
        "***- Nhận xét***: \n",
        "- Sử dụng tập test để đánh giá mô hình cho ra kết quả tốt.\n",
        "- Ta thấy kết quả sử dụng mô hình RF + Grid Search để kiểm tra trên tập test có kết quả tốt nhất trong tất cả 16 mô hình đã huấn luyện. Cụ thể độ chính xác của mô hình này là (accuracy = 99.98% và precision = 100%)."
      ]
    }
  ]
}